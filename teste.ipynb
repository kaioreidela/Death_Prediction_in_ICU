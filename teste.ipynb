{
 "cells": [
  {
   "cell_type": "code",
   "execution_count": 1,
   "metadata": {},
   "outputs": [],
   "source": [
    "import pandas as pd\n",
    "import numpy as np\n",
    "import seaborn as sn\n",
    "import matplotlib.pyplot as plt\n",
    "import statistics as st"
   ]
  },
  {
   "cell_type": "markdown",
   "metadata": {},
   "source": [
    "1. Gere um relatório em pdf, de estatística descritiva dos seus dados, contemplando:\n",
    "1.1. Uma seção sobre análise univariada, em que incluirá distribuições de frequência para uma variável qualitativa e uma quantitativa;\n",
    "1.2. Uma seção sobre gráficos univariados para ao menos uma variável de cada tipo (qualitativa nominal, qualitativa  ordinal, quantitativa discreta, quantitativa contínua);\n",
    "1.3. Uma seção sobre análise bivariada, com ao menos uma distribuição de frequências e uma figura bivariadas;\n",
    "1.4. Uma seção para medidas de posição (tendência central);\n",
    "1.5. Uma seção sobre medidas de dispersão;\n",
    "1.6. Em cada seção, interprete seus resultados, como se fossem verdadeiros, mesmo que sejam fictícios.\n",
    "1.7. Sua equipe deverá recorrer a ferramentas informáticas para realização dos cálculos, das tabelas e figuras, bem como do próprio relatório."
   ]
  },
  {
   "cell_type": "markdown",
   "metadata": {},
   "source": [
    "# 0. Funções"
   ]
  },
  {
   "cell_type": "code",
   "execution_count": 2,
   "metadata": {},
   "outputs": [],
   "source": [
    "def grafico_qualitativa(var,dataframe, ax=None):\n",
    "     dados_qualitativa = dataframe[var].value_counts(normalize = True).reset_index(name='Frequência').rename(columns={'index':var})\n",
    "     display(dados_qualitativa)\n",
    "     \n",
    "     if ax is None:\n",
    "          fig, ax = plt.subplots(figsize=(12, 4))\n",
    "          \n",
    "     dados_grafico = dataframe[var].value_counts()\n",
    "     dados_grafico = dataframe[var].value_counts()\n",
    "     dados_grafico.plot(kind='bar', ax=ax)\n",
    "     \n",
    "     plt.xlabel('Valores')\n",
    "     plt.ylabel('Frequência')\n",
    "     plt.title(f'Gráfico da Frequência:{var}')"
   ]
  },
  {
   "cell_type": "code",
   "execution_count": 3,
   "metadata": {},
   "outputs": [],
   "source": [
    "def histograma_Uni(varName,dataframe):\n",
    "    n = len(dataframe[varName])\n",
    "    k = round(np.sqrt(n))\n",
    "    trainHist = dataframe[varName].hist(figsize=(4,2), bins=k);\n",
    "    trainHist.set_xlabel(varName);\n",
    "    trainHist.set_ylabel('Frequência');"
   ]
  },
  {
   "cell_type": "code",
   "execution_count": 4,
   "metadata": {},
   "outputs": [],
   "source": [
    "def histograma(varName, dataframe):\n",
    "    fig, axs = plt.subplots(1, 2, figsize=(12, 4))\n",
    "    sn.histplot(dataframe[varName], color='b', bins=100, ax=axs[0])\n",
    "    dataframe[varName].plot(kind='box', ax=axs[1], title='')\n",
    "    axs[1].set_ylabel(varName)\n",
    "    plt.tight_layout()\n",
    "    plt.show()"
   ]
  },
  {
   "cell_type": "code",
   "execution_count": 5,
   "metadata": {},
   "outputs": [],
   "source": [
    "def QualiQualiAssociation(varName1, varName2,dataframe, ax=None):\n",
    "    SQ_tb = pd.crosstab(index = dataframe[varName1],columns = dataframe[varName2], normalize = \"index\")#, margins = True\n",
    "    title = \"Conditional Proportion: \" + varName2  + \" per \" +  varName1 \n",
    "    print(\"******** \" + title + \" ********\")\n",
    "    display(SQ_tb)\n",
    "    \n",
    "    if ax is None:\n",
    "        fig, ax = plt.subplots(figsize=(12, 4))\n",
    "    \n",
    "    image = SQ_tb.plot(kind=\"bar\", figsize=(12,4), stacked=False,title=title,fontsize=12,ax= ax)\n",
    "    image.set_ylabel(\"%\",fontsize=12)\n",
    "    image.set_xlabel(varName1,fontsize=12)"
   ]
  },
  {
   "cell_type": "code",
   "execution_count": 6,
   "metadata": {},
   "outputs": [],
   "source": [
    "def moda_czuber(data):\n",
    "    freq = {}\n",
    "    for i in data:\n",
    "        if i in freq:\n",
    "            freq[i] += 1\n",
    "        else:\n",
    "            freq[i] = 1\n",
    "\n",
    "    moda = max(freq, key=freq.get)\n",
    "    freq_anterior = freq.get(moda - 1, 0)\n",
    "    freq_posterior = freq.get(moda + 1, 0)\n",
    "\n",
    "    amplitude = None\n",
    "    if len(data) >= 2:\n",
    "        sorted_data = sorted(data)\n",
    "        amplitude = sorted_data[1] - sorted_data[0]\n",
    "\n",
    "    if amplitude is not None:\n",
    "        return moda + ((freq_posterior - freq_anterior) / (2 * freq_posterior - 2 * freq[moda])) * amplitude\n",
    "    else:\n",
    "        return moda\n"
   ]
  },
  {
   "cell_type": "code",
   "execution_count": 7,
   "metadata": {},
   "outputs": [],
   "source": [
    "\n",
    "def measuresOfPositionAndDispersion(data,key):\n",
    "    dataset = pd.DataFrame({\"Variable\": key ,\"Amount\": len(data),\"Mean\": [st.mean(data.dropna())], \"Mode \": moda_czuber(data.dropna()), \"Median\": [st.median(data.dropna())], \"Variance\": [st.variance(data.dropna())], \"Standard deviation\": [st.stdev(data.dropna())], \"Amplitude\": [max(data.dropna()) - min(data.dropna())]})\n",
    "    return dataset"
   ]
  },
  {
   "cell_type": "code",
   "execution_count": null,
   "metadata": {},
   "outputs": [],
   "source": [
    "def qualitativaXquantativa(varName1,varName2,dataframe,ax = None):\n",
    "    if ax is None:\n",
    "        _, ax = plt.subplots(figsize=(6, 4))\n",
    "    title = varName1 + \" per \" + varName2\n",
    "    ax.set_title(title, fontsize=12)\n",
    "    sn.boxplot(data=dataframe, x=varName2, y=varName1, ax=ax)\n",
    "    ax.set_ylabel(varName1, fontsize=12)\n",
    "    ax.set_xlabel(varName2, fontsize=12)\n",
    "    display(dataframe[[varName1, varName2]].groupby(varName2).describe())"
   ]
  },
  {
   "cell_type": "markdown",
   "metadata": {},
   "source": [
    "# Estatistica descritiva"
   ]
  },
  {
   "cell_type": "code",
   "execution_count": 8,
   "metadata": {},
   "outputs": [],
   "source": [
    "nome_arquivo_csv = 'dataset.csv'\n",
    "dados = pd.read_csv(nome_arquivo_csv)"
   ]
  },
  {
   "cell_type": "code",
   "execution_count": 9,
   "metadata": {},
   "outputs": [
    {
     "data": {
      "text/html": [
       "<div>\n",
       "<style scoped>\n",
       "    .dataframe tbody tr th:only-of-type {\n",
       "        vertical-align: middle;\n",
       "    }\n",
       "\n",
       "    .dataframe tbody tr th {\n",
       "        vertical-align: top;\n",
       "    }\n",
       "\n",
       "    .dataframe thead th {\n",
       "        text-align: right;\n",
       "    }\n",
       "</style>\n",
       "<table border=\"1\" class=\"dataframe\">\n",
       "  <thead>\n",
       "    <tr style=\"text-align: right;\">\n",
       "      <th></th>\n",
       "      <th>encounter_id</th>\n",
       "      <th>patient_id</th>\n",
       "      <th>hospital_id</th>\n",
       "      <th>age</th>\n",
       "      <th>bmi</th>\n",
       "      <th>elective_surgery</th>\n",
       "      <th>ethnicity</th>\n",
       "      <th>gender</th>\n",
       "      <th>height</th>\n",
       "      <th>icu_admit_source</th>\n",
       "      <th>...</th>\n",
       "      <th>diabetes_mellitus</th>\n",
       "      <th>hepatic_failure</th>\n",
       "      <th>immunosuppression</th>\n",
       "      <th>leukemia</th>\n",
       "      <th>lymphoma</th>\n",
       "      <th>solid_tumor_with_metastasis</th>\n",
       "      <th>apache_3j_bodysystem</th>\n",
       "      <th>apache_2_bodysystem</th>\n",
       "      <th>Unnamed: 83</th>\n",
       "      <th>hospital_death</th>\n",
       "    </tr>\n",
       "  </thead>\n",
       "  <tbody>\n",
       "    <tr>\n",
       "      <th>0</th>\n",
       "      <td>66154</td>\n",
       "      <td>25312</td>\n",
       "      <td>118</td>\n",
       "      <td>68.0</td>\n",
       "      <td>22.730000</td>\n",
       "      <td>0</td>\n",
       "      <td>Caucasian</td>\n",
       "      <td>M</td>\n",
       "      <td>180.3</td>\n",
       "      <td>Floor</td>\n",
       "      <td>...</td>\n",
       "      <td>1.0</td>\n",
       "      <td>0.0</td>\n",
       "      <td>0.0</td>\n",
       "      <td>0.0</td>\n",
       "      <td>0.0</td>\n",
       "      <td>0.0</td>\n",
       "      <td>Sepsis</td>\n",
       "      <td>Cardiovascular</td>\n",
       "      <td>NaN</td>\n",
       "      <td>0</td>\n",
       "    </tr>\n",
       "    <tr>\n",
       "      <th>1</th>\n",
       "      <td>114252</td>\n",
       "      <td>59342</td>\n",
       "      <td>81</td>\n",
       "      <td>77.0</td>\n",
       "      <td>27.420000</td>\n",
       "      <td>0</td>\n",
       "      <td>Caucasian</td>\n",
       "      <td>F</td>\n",
       "      <td>160.0</td>\n",
       "      <td>Floor</td>\n",
       "      <td>...</td>\n",
       "      <td>1.0</td>\n",
       "      <td>0.0</td>\n",
       "      <td>0.0</td>\n",
       "      <td>0.0</td>\n",
       "      <td>0.0</td>\n",
       "      <td>0.0</td>\n",
       "      <td>Respiratory</td>\n",
       "      <td>Respiratory</td>\n",
       "      <td>NaN</td>\n",
       "      <td>0</td>\n",
       "    </tr>\n",
       "    <tr>\n",
       "      <th>2</th>\n",
       "      <td>119783</td>\n",
       "      <td>50777</td>\n",
       "      <td>118</td>\n",
       "      <td>25.0</td>\n",
       "      <td>31.950000</td>\n",
       "      <td>0</td>\n",
       "      <td>Caucasian</td>\n",
       "      <td>F</td>\n",
       "      <td>172.7</td>\n",
       "      <td>Accident &amp; Emergency</td>\n",
       "      <td>...</td>\n",
       "      <td>0.0</td>\n",
       "      <td>0.0</td>\n",
       "      <td>0.0</td>\n",
       "      <td>0.0</td>\n",
       "      <td>0.0</td>\n",
       "      <td>0.0</td>\n",
       "      <td>Metabolic</td>\n",
       "      <td>Metabolic</td>\n",
       "      <td>NaN</td>\n",
       "      <td>0</td>\n",
       "    </tr>\n",
       "    <tr>\n",
       "      <th>3</th>\n",
       "      <td>79267</td>\n",
       "      <td>46918</td>\n",
       "      <td>118</td>\n",
       "      <td>81.0</td>\n",
       "      <td>22.640000</td>\n",
       "      <td>1</td>\n",
       "      <td>Caucasian</td>\n",
       "      <td>F</td>\n",
       "      <td>165.1</td>\n",
       "      <td>Operating Room / Recovery</td>\n",
       "      <td>...</td>\n",
       "      <td>0.0</td>\n",
       "      <td>0.0</td>\n",
       "      <td>0.0</td>\n",
       "      <td>0.0</td>\n",
       "      <td>0.0</td>\n",
       "      <td>0.0</td>\n",
       "      <td>Cardiovascular</td>\n",
       "      <td>Cardiovascular</td>\n",
       "      <td>NaN</td>\n",
       "      <td>0</td>\n",
       "    </tr>\n",
       "    <tr>\n",
       "      <th>4</th>\n",
       "      <td>92056</td>\n",
       "      <td>34377</td>\n",
       "      <td>33</td>\n",
       "      <td>19.0</td>\n",
       "      <td>NaN</td>\n",
       "      <td>0</td>\n",
       "      <td>Caucasian</td>\n",
       "      <td>M</td>\n",
       "      <td>188.0</td>\n",
       "      <td>Accident &amp; Emergency</td>\n",
       "      <td>...</td>\n",
       "      <td>0.0</td>\n",
       "      <td>0.0</td>\n",
       "      <td>0.0</td>\n",
       "      <td>0.0</td>\n",
       "      <td>0.0</td>\n",
       "      <td>0.0</td>\n",
       "      <td>Trauma</td>\n",
       "      <td>Trauma</td>\n",
       "      <td>NaN</td>\n",
       "      <td>0</td>\n",
       "    </tr>\n",
       "    <tr>\n",
       "      <th>...</th>\n",
       "      <td>...</td>\n",
       "      <td>...</td>\n",
       "      <td>...</td>\n",
       "      <td>...</td>\n",
       "      <td>...</td>\n",
       "      <td>...</td>\n",
       "      <td>...</td>\n",
       "      <td>...</td>\n",
       "      <td>...</td>\n",
       "      <td>...</td>\n",
       "      <td>...</td>\n",
       "      <td>...</td>\n",
       "      <td>...</td>\n",
       "      <td>...</td>\n",
       "      <td>...</td>\n",
       "      <td>...</td>\n",
       "      <td>...</td>\n",
       "      <td>...</td>\n",
       "      <td>...</td>\n",
       "      <td>...</td>\n",
       "      <td>...</td>\n",
       "    </tr>\n",
       "    <tr>\n",
       "      <th>91708</th>\n",
       "      <td>91592</td>\n",
       "      <td>78108</td>\n",
       "      <td>30</td>\n",
       "      <td>75.0</td>\n",
       "      <td>23.060250</td>\n",
       "      <td>0</td>\n",
       "      <td>Caucasian</td>\n",
       "      <td>M</td>\n",
       "      <td>177.8</td>\n",
       "      <td>Floor</td>\n",
       "      <td>...</td>\n",
       "      <td>1.0</td>\n",
       "      <td>0.0</td>\n",
       "      <td>0.0</td>\n",
       "      <td>0.0</td>\n",
       "      <td>0.0</td>\n",
       "      <td>1.0</td>\n",
       "      <td>Sepsis</td>\n",
       "      <td>Cardiovascular</td>\n",
       "      <td>NaN</td>\n",
       "      <td>0</td>\n",
       "    </tr>\n",
       "    <tr>\n",
       "      <th>91709</th>\n",
       "      <td>66119</td>\n",
       "      <td>13486</td>\n",
       "      <td>121</td>\n",
       "      <td>56.0</td>\n",
       "      <td>47.179671</td>\n",
       "      <td>0</td>\n",
       "      <td>Caucasian</td>\n",
       "      <td>F</td>\n",
       "      <td>183.0</td>\n",
       "      <td>Floor</td>\n",
       "      <td>...</td>\n",
       "      <td>0.0</td>\n",
       "      <td>0.0</td>\n",
       "      <td>0.0</td>\n",
       "      <td>0.0</td>\n",
       "      <td>0.0</td>\n",
       "      <td>0.0</td>\n",
       "      <td>Sepsis</td>\n",
       "      <td>Cardiovascular</td>\n",
       "      <td>NaN</td>\n",
       "      <td>0</td>\n",
       "    </tr>\n",
       "    <tr>\n",
       "      <th>91710</th>\n",
       "      <td>8981</td>\n",
       "      <td>58179</td>\n",
       "      <td>195</td>\n",
       "      <td>48.0</td>\n",
       "      <td>27.236914</td>\n",
       "      <td>0</td>\n",
       "      <td>Caucasian</td>\n",
       "      <td>M</td>\n",
       "      <td>170.2</td>\n",
       "      <td>Accident &amp; Emergency</td>\n",
       "      <td>...</td>\n",
       "      <td>1.0</td>\n",
       "      <td>0.0</td>\n",
       "      <td>0.0</td>\n",
       "      <td>0.0</td>\n",
       "      <td>0.0</td>\n",
       "      <td>0.0</td>\n",
       "      <td>Metabolic</td>\n",
       "      <td>Metabolic</td>\n",
       "      <td>NaN</td>\n",
       "      <td>0</td>\n",
       "    </tr>\n",
       "    <tr>\n",
       "      <th>91711</th>\n",
       "      <td>33776</td>\n",
       "      <td>120598</td>\n",
       "      <td>66</td>\n",
       "      <td>NaN</td>\n",
       "      <td>23.297481</td>\n",
       "      <td>0</td>\n",
       "      <td>Caucasian</td>\n",
       "      <td>F</td>\n",
       "      <td>154.9</td>\n",
       "      <td>Accident &amp; Emergency</td>\n",
       "      <td>...</td>\n",
       "      <td>0.0</td>\n",
       "      <td>0.0</td>\n",
       "      <td>0.0</td>\n",
       "      <td>0.0</td>\n",
       "      <td>0.0</td>\n",
       "      <td>0.0</td>\n",
       "      <td>Respiratory</td>\n",
       "      <td>Respiratory</td>\n",
       "      <td>NaN</td>\n",
       "      <td>0</td>\n",
       "    </tr>\n",
       "    <tr>\n",
       "      <th>91712</th>\n",
       "      <td>1671</td>\n",
       "      <td>53612</td>\n",
       "      <td>104</td>\n",
       "      <td>82.0</td>\n",
       "      <td>22.031250</td>\n",
       "      <td>1</td>\n",
       "      <td>Caucasian</td>\n",
       "      <td>F</td>\n",
       "      <td>160.0</td>\n",
       "      <td>Operating Room / Recovery</td>\n",
       "      <td>...</td>\n",
       "      <td>0.0</td>\n",
       "      <td>0.0</td>\n",
       "      <td>0.0</td>\n",
       "      <td>0.0</td>\n",
       "      <td>0.0</td>\n",
       "      <td>0.0</td>\n",
       "      <td>Gastrointestinal</td>\n",
       "      <td>Gastrointestinal</td>\n",
       "      <td>NaN</td>\n",
       "      <td>0</td>\n",
       "    </tr>\n",
       "  </tbody>\n",
       "</table>\n",
       "<p>91713 rows × 85 columns</p>\n",
       "</div>"
      ],
      "text/plain": [
       "       encounter_id  patient_id  hospital_id   age        bmi  \\\n",
       "0             66154       25312          118  68.0  22.730000   \n",
       "1            114252       59342           81  77.0  27.420000   \n",
       "2            119783       50777          118  25.0  31.950000   \n",
       "3             79267       46918          118  81.0  22.640000   \n",
       "4             92056       34377           33  19.0        NaN   \n",
       "...             ...         ...          ...   ...        ...   \n",
       "91708         91592       78108           30  75.0  23.060250   \n",
       "91709         66119       13486          121  56.0  47.179671   \n",
       "91710          8981       58179          195  48.0  27.236914   \n",
       "91711         33776      120598           66   NaN  23.297481   \n",
       "91712          1671       53612          104  82.0  22.031250   \n",
       "\n",
       "       elective_surgery  ethnicity gender  height           icu_admit_source  \\\n",
       "0                     0  Caucasian      M   180.3                      Floor   \n",
       "1                     0  Caucasian      F   160.0                      Floor   \n",
       "2                     0  Caucasian      F   172.7       Accident & Emergency   \n",
       "3                     1  Caucasian      F   165.1  Operating Room / Recovery   \n",
       "4                     0  Caucasian      M   188.0       Accident & Emergency   \n",
       "...                 ...        ...    ...     ...                        ...   \n",
       "91708                 0  Caucasian      M   177.8                      Floor   \n",
       "91709                 0  Caucasian      F   183.0                      Floor   \n",
       "91710                 0  Caucasian      M   170.2       Accident & Emergency   \n",
       "91711                 0  Caucasian      F   154.9       Accident & Emergency   \n",
       "91712                 1  Caucasian      F   160.0  Operating Room / Recovery   \n",
       "\n",
       "       ...  diabetes_mellitus hepatic_failure immunosuppression  leukemia  \\\n",
       "0      ...                1.0             0.0               0.0       0.0   \n",
       "1      ...                1.0             0.0               0.0       0.0   \n",
       "2      ...                0.0             0.0               0.0       0.0   \n",
       "3      ...                0.0             0.0               0.0       0.0   \n",
       "4      ...                0.0             0.0               0.0       0.0   \n",
       "...    ...                ...             ...               ...       ...   \n",
       "91708  ...                1.0             0.0               0.0       0.0   \n",
       "91709  ...                0.0             0.0               0.0       0.0   \n",
       "91710  ...                1.0             0.0               0.0       0.0   \n",
       "91711  ...                0.0             0.0               0.0       0.0   \n",
       "91712  ...                0.0             0.0               0.0       0.0   \n",
       "\n",
       "       lymphoma  solid_tumor_with_metastasis  apache_3j_bodysystem  \\\n",
       "0           0.0                          0.0                Sepsis   \n",
       "1           0.0                          0.0           Respiratory   \n",
       "2           0.0                          0.0             Metabolic   \n",
       "3           0.0                          0.0        Cardiovascular   \n",
       "4           0.0                          0.0                Trauma   \n",
       "...         ...                          ...                   ...   \n",
       "91708       0.0                          1.0                Sepsis   \n",
       "91709       0.0                          0.0                Sepsis   \n",
       "91710       0.0                          0.0             Metabolic   \n",
       "91711       0.0                          0.0           Respiratory   \n",
       "91712       0.0                          0.0      Gastrointestinal   \n",
       "\n",
       "       apache_2_bodysystem  Unnamed: 83  hospital_death  \n",
       "0           Cardiovascular          NaN               0  \n",
       "1              Respiratory          NaN               0  \n",
       "2                Metabolic          NaN               0  \n",
       "3           Cardiovascular          NaN               0  \n",
       "4                   Trauma          NaN               0  \n",
       "...                    ...          ...             ...  \n",
       "91708       Cardiovascular          NaN               0  \n",
       "91709       Cardiovascular          NaN               0  \n",
       "91710            Metabolic          NaN               0  \n",
       "91711          Respiratory          NaN               0  \n",
       "91712     Gastrointestinal          NaN               0  \n",
       "\n",
       "[91713 rows x 85 columns]"
      ]
     },
     "metadata": {},
     "output_type": "display_data"
    }
   ],
   "source": [
    "display(dados)"
   ]
  },
  {
   "cell_type": "markdown",
   "metadata": {},
   "source": [
    "Aqui entendermos melhor as variaveis de maior interesse e como elas se relacionam. Elas serão dividas em duas categorias, serão variáveis qualitativas e quantitativas.Elas serão analisadas por meio de gráficos de forma que entendamos melhor seus comportamentos e suas frequências.  \n",
    "As variáveis de interesse serão:  \n",
    "* __gender__: O sexo genotípico do paciente.  \n",
    "* __icu_admit_source__: A localização do paciente antes de ser admitido na unidade.  \n",
    "* __leukemia__: Se o paciente foi diagnosticado com leucemia mielóide aguda ou crônica, leucemia linfocítica aguda ou crônica ou mieloma múltiplo.  \n",
    "* __diabetes_mellitus__: Se o paciente foi diagnosticado com diabetes, seja juvenil ou adulto, que requer medicação.  \n",
    "* __solid_tumor_with_metastasis__: Se o paciente foi diagnosticado com algum carcinoma tumoral sólido (incluindo melanoma maligno) que apresenta evidência de metástase.  \n",
    "* __hospital_death__: Se o paciente morreu durante esta hospitalização. \n",
    " \n",
    "As variáveis acima são qualitativas, veremos posteriormente se elas tem relação com a taxa de mortalidade. Elas foram escolhidas de modo a verificar se gênero, doenças e local de onde foram admitidas tem relação com morte.\n",
    "\n",
    "__VARIAVEIS DE APACHE-III__\n",
    "  \n",
    " Já as variáveis abaixo são qualitativas, serão analisadas para observar sua relação com a taxa de mortalidade, algumas delas foram escolihdas com base no diagnóstico APACHE-III pois são as categorias que mais pontuam nesse diagnóstico e assim podem ter grande interesse na taxa de mortalidade.  \n",
    "\n",
    "* __heart_rate_apache__: A frequência cardíaca medida durante as primeiras 24 horas que resulta na pontuação APACHE III mais alta.\n",
    "* __temp_apache__: A temperatura medida durante as primeiras 24 horas que resulta na pontuação APACHE III mais alta.\n",
    "* __resprate_apache__: A frequência respiratória medida durante as primeiras 24 horas que resulta na pontuação APACHE III mais alta.\n",
    "* __map_apache__: A pressão arterial média medida durante as primeiras 24 horas que resulta na pontuação APACHE III mais alta.\n"
   ]
  },
  {
   "cell_type": "markdown",
   "metadata": {},
   "source": [
    "## 1.Gráficos univariados para cada variável"
   ]
  },
  {
   "cell_type": "markdown",
   "metadata": {},
   "source": [
    "Aqui serão analisadas uma variavel de cada tipo, sendo elas:\n",
    "* icu_admit_source (qualitativa nominal)\n",
    "*  (qualitativa  ordinal) \n",
    "*  heart_rate_apache (quantitativa discreta)\n",
    "*  apache_4a_icu_death_prob (quantitativa contínua)"
   ]
  },
  {
   "cell_type": "markdown",
   "metadata": {},
   "source": [
    " ### 1.1 icu_admit_source\n",
    "\n",
    "\n",
    "\n",
    "\n"
   ]
  },
  {
   "cell_type": "markdown",
   "metadata": {},
   "source": [
    " * A variavel icu_admit_source (qualitativa nominal) é a localizacao do paciiente antes de ser admitido na unidade.  \n",
    " Iremos agora analisar sua distribuição de frequência."
   ]
  },
  {
   "cell_type": "code",
   "execution_count": 10,
   "metadata": {},
   "outputs": [
    {
     "data": {
      "text/html": [
       "<div>\n",
       "<style scoped>\n",
       "    .dataframe tbody tr th:only-of-type {\n",
       "        vertical-align: middle;\n",
       "    }\n",
       "\n",
       "    .dataframe tbody tr th {\n",
       "        vertical-align: top;\n",
       "    }\n",
       "\n",
       "    .dataframe thead th {\n",
       "        text-align: right;\n",
       "    }\n",
       "</style>\n",
       "<table border=\"1\" class=\"dataframe\">\n",
       "  <thead>\n",
       "    <tr style=\"text-align: right;\">\n",
       "      <th></th>\n",
       "      <th>icu_admit_source</th>\n",
       "      <th>Frequência</th>\n",
       "    </tr>\n",
       "  </thead>\n",
       "  <tbody>\n",
       "    <tr>\n",
       "      <th>0</th>\n",
       "      <td>Accident &amp; Emergency</td>\n",
       "      <td>0.590168</td>\n",
       "    </tr>\n",
       "    <tr>\n",
       "      <th>1</th>\n",
       "      <td>Operating Room / Recovery</td>\n",
       "      <td>0.204288</td>\n",
       "    </tr>\n",
       "    <tr>\n",
       "      <th>2</th>\n",
       "      <td>Floor</td>\n",
       "      <td>0.170424</td>\n",
       "    </tr>\n",
       "    <tr>\n",
       "      <th>3</th>\n",
       "      <td>Other Hospital</td>\n",
       "      <td>0.025742</td>\n",
       "    </tr>\n",
       "    <tr>\n",
       "      <th>4</th>\n",
       "      <td>Other ICU</td>\n",
       "      <td>0.009378</td>\n",
       "    </tr>\n",
       "  </tbody>\n",
       "</table>\n",
       "</div>"
      ],
      "text/plain": [
       "            icu_admit_source  Frequência\n",
       "0       Accident & Emergency    0.590168\n",
       "1  Operating Room / Recovery    0.204288\n",
       "2                      Floor    0.170424\n",
       "3             Other Hospital    0.025742\n",
       "4                  Other ICU    0.009378"
      ]
     },
     "metadata": {},
     "output_type": "display_data"
    },
    {
     "data": {
      "image/png": "[encoded data removed]",
      "text/plain": [
       "<Figure size 1200x400 with 1 Axes>"
      ]
     },
     "metadata": {},
     "output_type": "display_data"
    }
   ],
   "source": [
    "\n",
    "grafico_qualitativa(\"icu_admit_source\", dados)"
   ]
  },
  {
   "cell_type": "markdown",
   "metadata": {},
   "source": [
    "* Podemos perceber que a grande maioria das pessoas vem de acidente e emergência sendo 59.01% dos pacientes vindo desta localização ja os pacientes de vindo de outra unidade hospitalar ou de outra UTI são os menores representando juntos menos de 5% dos pacientes. \n"
   ]
  },
  {
   "cell_type": "markdown",
   "metadata": {},
   "source": [
    "### 1.2 \n",
    "*  (qualitativa  ordinal) "
   ]
  },
  {
   "cell_type": "markdown",
   "metadata": {},
   "source": [
    "### 1.3 heart_rate_apache\n",
    "\n"
   ]
  },
  {
   "cell_type": "markdown",
   "metadata": {},
   "source": [
    "* A variavel  heart_rate_apache (quantitativa discreta) é a frequência cardíaca medida durante as primeiras 24 horas que resulta na pontuação APACHE III mais alta."
   ]
  },
  {
   "cell_type": "code",
   "execution_count": 11,
   "metadata": {},
   "outputs": [
    {
     "data": {
      "image/png": "[encoded data removed]",
      "text/plain": [
       "<Figure size 1200x400 with 2 Axes>"
      ]
     },
     "metadata": {},
     "output_type": "display_data"
    }
   ],
   "source": [
    "histograma(\"heart_rate_apache\", dados)"
   ]
  },
  {
   "cell_type": "markdown",
   "metadata": {},
   "source": [
    "*  Pelo histograma apresentado podemos perceber  que uma frequência cardiaca menor que 40 e maior que 180  ja representa pontos fora da curva.  \n",
    "No gráfico podemos ver que há uma quantidade significativa de pontos assim, para essas pessoas pessoas com esse tipo de frequência podemos dizer que essas pessoas terão um APACHE-III mais alto."
   ]
  },
  {
   "cell_type": "markdown",
   "metadata": {},
   "source": [
    "### 1.4 apache_4a_icu_death_prob\n"
   ]
  },
  {
   "cell_type": "markdown",
   "metadata": {},
   "source": [
    "* A variavel apache_4a_icu_death_prob (quantitativa contínua) é previsão probabilística APACHE IVa de mortalidade na UTI para o paciente que utiliza o escore APACHE III e outras covariáveis, incluindo diagnóstico."
   ]
  },
  {
   "cell_type": "code",
   "execution_count": 12,
   "metadata": {},
   "outputs": [
    {
     "data": {
      "image/png": "[encoded data removed]",
      "text/plain": [
       "<Figure size 1200x400 with 2 Axes>"
      ]
     },
     "metadata": {},
     "output_type": "display_data"
    }
   ],
   "source": [
    "histograma(\"apache_4a_icu_death_prob\", dados)"
   ]
  },
  {
   "cell_type": "markdown",
   "metadata": {},
   "source": [
    "* No gráfico podemos ver varios pontos fora da curva ,as isso se da pq a grande maioria dos pacientes tem uma probabilidade bem baixa de morrer estando entre 0 e 0.10 de probabilidade.  \n",
    "Assim, o grafico considera aqueles acima dessa quantidade como pontos aberrantes mas podemos ver que há uma quantidade bem pequena de pessoas com probabilidade acima de 0.25, tambem podemos ver que há um ponto aberrante para baixo o que provavelmente representa um erro de digitação."
   ]
  },
  {
   "cell_type": "markdown",
   "metadata": {},
   "source": [
    "Nesta seção abordaremos vários dos temas pedidos, aqui veremos gráficos univariados e bivariados lado lado para entendermos melhor como as variáveis se conectam e suas relações."
   ]
  },
  {
   "cell_type": "markdown",
   "metadata": {},
   "source": [
    "## 2. Gráficos univariados e bivariados para qualitativas"
   ]
  },
  {
   "cell_type": "code",
   "execution_count": 13,
   "metadata": {},
   "outputs": [
    {
     "data": {
      "text/html": [
       "<div>\n",
       "<style scoped>\n",
       "    .dataframe tbody tr th:only-of-type {\n",
       "        vertical-align: middle;\n",
       "    }\n",
       "\n",
       "    .dataframe tbody tr th {\n",
       "        vertical-align: top;\n",
       "    }\n",
       "\n",
       "    .dataframe thead th {\n",
       "        text-align: right;\n",
       "    }\n",
       "</style>\n",
       "<table border=\"1\" class=\"dataframe\">\n",
       "  <thead>\n",
       "    <tr style=\"text-align: right;\">\n",
       "      <th></th>\n",
       "      <th>gender</th>\n",
       "      <th>Frequência</th>\n",
       "    </tr>\n",
       "  </thead>\n",
       "  <tbody>\n",
       "    <tr>\n",
       "      <th>0</th>\n",
       "      <td>M</td>\n",
       "      <td>0.539536</td>\n",
       "    </tr>\n",
       "    <tr>\n",
       "      <th>1</th>\n",
       "      <td>F</td>\n",
       "      <td>0.460464</td>\n",
       "    </tr>\n",
       "  </tbody>\n",
       "</table>\n",
       "</div>"
      ],
      "text/plain": [
       "  gender  Frequência\n",
       "0      M    0.539536\n",
       "1      F    0.460464"
      ]
     },
     "metadata": {},
     "output_type": "display_data"
    },
    {
     "name": "stdout",
     "output_type": "stream",
     "text": [
      "******** Conditional Proportion: hospital_death per gender ********\n"
     ]
    },
    {
     "data": {
      "text/html": [
       "<div>\n",
       "<style scoped>\n",
       "    .dataframe tbody tr th:only-of-type {\n",
       "        vertical-align: middle;\n",
       "    }\n",
       "\n",
       "    .dataframe tbody tr th {\n",
       "        vertical-align: top;\n",
       "    }\n",
       "\n",
       "    .dataframe thead th {\n",
       "        text-align: right;\n",
       "    }\n",
       "</style>\n",
       "<table border=\"1\" class=\"dataframe\">\n",
       "  <thead>\n",
       "    <tr style=\"text-align: right;\">\n",
       "      <th>hospital_death</th>\n",
       "      <th>0</th>\n",
       "      <th>1</th>\n",
       "    </tr>\n",
       "    <tr>\n",
       "      <th>gender</th>\n",
       "      <th></th>\n",
       "      <th></th>\n",
       "    </tr>\n",
       "  </thead>\n",
       "  <tbody>\n",
       "    <tr>\n",
       "      <th>F</th>\n",
       "      <td>0.911627</td>\n",
       "      <td>0.088373</td>\n",
       "    </tr>\n",
       "    <tr>\n",
       "      <th>M</th>\n",
       "      <td>0.915583</td>\n",
       "      <td>0.084417</td>\n",
       "    </tr>\n",
       "  </tbody>\n",
       "</table>\n",
       "</div>"
      ],
      "text/plain": [
       "hospital_death         0         1\n",
       "gender                            \n",
       "F               0.911627  0.088373\n",
       "M               0.915583  0.084417"
      ]
     },
     "metadata": {},
     "output_type": "display_data"
    },
    {
     "data": {
      "image/png": "[encoded data removed]",
      "text/plain": [
       "<Figure size 1200x400 with 2 Axes>"
      ]
     },
     "metadata": {},
     "output_type": "display_data"
    }
   ],
   "source": [
    "fig, axs = plt.subplots(1, 2, figsize=(12, 4))\n",
    "grafico_qualitativa(\"gender\", dados, axs[0])\n",
    "QualiQualiAssociation(\"gender\",\"hospital_death\",dados,axs[1])\n",
    "plt.tight_layout()\n",
    "plt.show()"
   ]
  },
  {
   "cell_type": "markdown",
   "metadata": {},
   "source": [
    "* Diante do gráfico podemos perceber que a quantidade de homens a entrar na UTI é um pouco maior, porem não interferência significativa nas mortes.  \n",
    "Sendo a quantidade de mortes por genêro de 8,84% e a de morte por genêro masculino de 8,44%."
   ]
  },
  {
   "cell_type": "code",
   "execution_count": 14,
   "metadata": {},
   "outputs": [
    {
     "data": {
      "text/html": [
       "<div>\n",
       "<style scoped>\n",
       "    .dataframe tbody tr th:only-of-type {\n",
       "        vertical-align: middle;\n",
       "    }\n",
       "\n",
       "    .dataframe tbody tr th {\n",
       "        vertical-align: top;\n",
       "    }\n",
       "\n",
       "    .dataframe thead th {\n",
       "        text-align: right;\n",
       "    }\n",
       "</style>\n",
       "<table border=\"1\" class=\"dataframe\">\n",
       "  <thead>\n",
       "    <tr style=\"text-align: right;\">\n",
       "      <th></th>\n",
       "      <th>leukemia</th>\n",
       "      <th>Frequência</th>\n",
       "    </tr>\n",
       "  </thead>\n",
       "  <tbody>\n",
       "    <tr>\n",
       "      <th>0</th>\n",
       "      <td>0.0</td>\n",
       "      <td>0.992934</td>\n",
       "    </tr>\n",
       "    <tr>\n",
       "      <th>1</th>\n",
       "      <td>1.0</td>\n",
       "      <td>0.007066</td>\n",
       "    </tr>\n",
       "  </tbody>\n",
       "</table>\n",
       "</div>"
      ],
      "text/plain": [
       "   leukemia  Frequência\n",
       "0       0.0    0.992934\n",
       "1       1.0    0.007066"
      ]
     },
     "metadata": {},
     "output_type": "display_data"
    },
    {
     "name": "stdout",
     "output_type": "stream",
     "text": [
      "******** Conditional Proportion: hospital_death per leukemia ********\n"
     ]
    },
    {
     "data": {
      "text/html": [
       "<div>\n",
       "<style scoped>\n",
       "    .dataframe tbody tr th:only-of-type {\n",
       "        vertical-align: middle;\n",
       "    }\n",
       "\n",
       "    .dataframe tbody tr th {\n",
       "        vertical-align: top;\n",
       "    }\n",
       "\n",
       "    .dataframe thead th {\n",
       "        text-align: right;\n",
       "    }\n",
       "</style>\n",
       "<table border=\"1\" class=\"dataframe\">\n",
       "  <thead>\n",
       "    <tr style=\"text-align: right;\">\n",
       "      <th>hospital_death</th>\n",
       "      <th>0</th>\n",
       "      <th>1</th>\n",
       "    </tr>\n",
       "    <tr>\n",
       "      <th>leukemia</th>\n",
       "      <th></th>\n",
       "      <th></th>\n",
       "    </tr>\n",
       "  </thead>\n",
       "  <tbody>\n",
       "    <tr>\n",
       "      <th>0.0</th>\n",
       "      <td>0.914659</td>\n",
       "      <td>0.085341</td>\n",
       "    </tr>\n",
       "    <tr>\n",
       "      <th>1.0</th>\n",
       "      <td>0.814930</td>\n",
       "      <td>0.185070</td>\n",
       "    </tr>\n",
       "  </tbody>\n",
       "</table>\n",
       "</div>"
      ],
      "text/plain": [
       "hospital_death         0         1\n",
       "leukemia                          \n",
       "0.0             0.914659  0.085341\n",
       "1.0             0.814930  0.185070"
      ]
     },
     "metadata": {},
     "output_type": "display_data"
    },
    {
     "data": {
      "image/png": "[encoded data removed]",
      "text/plain": [
       "<Figure size 1200x400 with 2 Axes>"
      ]
     },
     "metadata": {},
     "output_type": "display_data"
    }
   ],
   "source": [
    "fig, axs = plt.subplots(1, 2, figsize=(12, 4))\n",
    "grafico_qualitativa(\"leukemia\", dados, axs[0])\n",
    "QualiQualiAssociation(\"leukemia\",\"hospital_death\",dados,axs[1])\n",
    "plt.tight_layout()\n",
    "plt.show()"
   ]
  },
  {
   "cell_type": "markdown",
   "metadata": {},
   "source": [
    "* Já diante do gráfico dos pacientes diagnosticados com leucemia vemos que somente 0,71% dos pacientes foram diagnosticados com essa doença, porém interfere de forma significativa nas mortes.  \n",
    " Os pacientes que não foram diagnosticados com leucemia tem somente 8.53%na taxa de mortalidade enquanto os pacientes diagnosticados com leucemia tem 18.51% de taxa de mortalidade apresentando assim aproximadamente 10% a mais na taxa de mortalidade."
   ]
  },
  {
   "cell_type": "code",
   "execution_count": 15,
   "metadata": {},
   "outputs": [
    {
     "data": {
      "text/html": [
       "<div>\n",
       "<style scoped>\n",
       "    .dataframe tbody tr th:only-of-type {\n",
       "        vertical-align: middle;\n",
       "    }\n",
       "\n",
       "    .dataframe tbody tr th {\n",
       "        vertical-align: top;\n",
       "    }\n",
       "\n",
       "    .dataframe thead th {\n",
       "        text-align: right;\n",
       "    }\n",
       "</style>\n",
       "<table border=\"1\" class=\"dataframe\">\n",
       "  <thead>\n",
       "    <tr style=\"text-align: right;\">\n",
       "      <th></th>\n",
       "      <th>diabetes_mellitus</th>\n",
       "      <th>Frequência</th>\n",
       "    </tr>\n",
       "  </thead>\n",
       "  <tbody>\n",
       "    <tr>\n",
       "      <th>0</th>\n",
       "      <td>0.0</td>\n",
       "      <td>0.774808</td>\n",
       "    </tr>\n",
       "    <tr>\n",
       "      <th>1</th>\n",
       "      <td>1.0</td>\n",
       "      <td>0.225192</td>\n",
       "    </tr>\n",
       "  </tbody>\n",
       "</table>\n",
       "</div>"
      ],
      "text/plain": [
       "   diabetes_mellitus  Frequência\n",
       "0                0.0    0.774808\n",
       "1                1.0    0.225192"
      ]
     },
     "metadata": {},
     "output_type": "display_data"
    },
    {
     "name": "stdout",
     "output_type": "stream",
     "text": [
      "******** Conditional Proportion: hospital_death per diabetes_mellitus ********\n"
     ]
    },
    {
     "data": {
      "text/html": [
       "<div>\n",
       "<style scoped>\n",
       "    .dataframe tbody tr th:only-of-type {\n",
       "        vertical-align: middle;\n",
       "    }\n",
       "\n",
       "    .dataframe tbody tr th {\n",
       "        vertical-align: top;\n",
       "    }\n",
       "\n",
       "    .dataframe thead th {\n",
       "        text-align: right;\n",
       "    }\n",
       "</style>\n",
       "<table border=\"1\" class=\"dataframe\">\n",
       "  <thead>\n",
       "    <tr style=\"text-align: right;\">\n",
       "      <th>hospital_death</th>\n",
       "      <th>0</th>\n",
       "      <th>1</th>\n",
       "    </tr>\n",
       "    <tr>\n",
       "      <th>diabetes_mellitus</th>\n",
       "      <th></th>\n",
       "      <th></th>\n",
       "    </tr>\n",
       "  </thead>\n",
       "  <tbody>\n",
       "    <tr>\n",
       "      <th>0.0</th>\n",
       "      <td>0.911568</td>\n",
       "      <td>0.088432</td>\n",
       "    </tr>\n",
       "    <tr>\n",
       "      <th>1.0</th>\n",
       "      <td>0.922165</td>\n",
       "      <td>0.077835</td>\n",
       "    </tr>\n",
       "  </tbody>\n",
       "</table>\n",
       "</div>"
      ],
      "text/plain": [
       "hospital_death            0         1\n",
       "diabetes_mellitus                    \n",
       "0.0                0.911568  0.088432\n",
       "1.0                0.922165  0.077835"
      ]
     },
     "metadata": {},
     "output_type": "display_data"
    },
    {
     "data": {
      "image/png": "[encoded data removed]",
      "text/plain": [
       "<Figure size 1200x400 with 2 Axes>"
      ]
     },
     "metadata": {},
     "output_type": "display_data"
    }
   ],
   "source": [
    "fig, axs = plt.subplots(1, 2, figsize=(12, 4))\n",
    "grafico_qualitativa(\"diabetes_mellitus\", dados, axs[0])\n",
    "QualiQualiAssociation(\"diabetes_mellitus\",\"hospital_death\",dados,axs[1])\n",
    "plt.tight_layout()\n",
    "plt.show()"
   ]
  },
  {
   "cell_type": "markdown",
   "metadata": {},
   "source": [
    "* Já na análise de pacientes com diabetes vemos que uma quantidade de 22.51% possuem a doença mas que ela não tem grande inteferência na taxa de mortalidade.\n",
    "Dos pacientes que morreram 8.84% não possuiam a doença enquanto 7.78% possuiam a doença."
   ]
  },
  {
   "cell_type": "code",
   "execution_count": 16,
   "metadata": {},
   "outputs": [
    {
     "data": {
      "text/html": [
       "<div>\n",
       "<style scoped>\n",
       "    .dataframe tbody tr th:only-of-type {\n",
       "        vertical-align: middle;\n",
       "    }\n",
       "\n",
       "    .dataframe tbody tr th {\n",
       "        vertical-align: top;\n",
       "    }\n",
       "\n",
       "    .dataframe thead th {\n",
       "        text-align: right;\n",
       "    }\n",
       "</style>\n",
       "<table border=\"1\" class=\"dataframe\">\n",
       "  <thead>\n",
       "    <tr style=\"text-align: right;\">\n",
       "      <th></th>\n",
       "      <th>solid_tumor_with_metastasis</th>\n",
       "      <th>Frequência</th>\n",
       "    </tr>\n",
       "  </thead>\n",
       "  <tbody>\n",
       "    <tr>\n",
       "      <th>0</th>\n",
       "      <td>0.0</td>\n",
       "      <td>0.979362</td>\n",
       "    </tr>\n",
       "    <tr>\n",
       "      <th>1</th>\n",
       "      <td>1.0</td>\n",
       "      <td>0.020638</td>\n",
       "    </tr>\n",
       "  </tbody>\n",
       "</table>\n",
       "</div>"
      ],
      "text/plain": [
       "   solid_tumor_with_metastasis  Frequência\n",
       "0                          0.0    0.979362\n",
       "1                          1.0    0.020638"
      ]
     },
     "metadata": {},
     "output_type": "display_data"
    },
    {
     "name": "stdout",
     "output_type": "stream",
     "text": [
      "******** Conditional Proportion: hospital_death per solid_tumor_with_metastasis ********\n"
     ]
    },
    {
     "data": {
      "text/html": [
       "<div>\n",
       "<style scoped>\n",
       "    .dataframe tbody tr th:only-of-type {\n",
       "        vertical-align: middle;\n",
       "    }\n",
       "\n",
       "    .dataframe tbody tr th {\n",
       "        vertical-align: top;\n",
       "    }\n",
       "\n",
       "    .dataframe thead th {\n",
       "        text-align: right;\n",
       "    }\n",
       "</style>\n",
       "<table border=\"1\" class=\"dataframe\">\n",
       "  <thead>\n",
       "    <tr style=\"text-align: right;\">\n",
       "      <th>hospital_death</th>\n",
       "      <th>0</th>\n",
       "      <th>1</th>\n",
       "    </tr>\n",
       "    <tr>\n",
       "      <th>solid_tumor_with_metastasis</th>\n",
       "      <th></th>\n",
       "      <th></th>\n",
       "    </tr>\n",
       "  </thead>\n",
       "  <tbody>\n",
       "    <tr>\n",
       "      <th>0.0</th>\n",
       "      <td>0.916035</td>\n",
       "      <td>0.083965</td>\n",
       "    </tr>\n",
       "    <tr>\n",
       "      <th>1.0</th>\n",
       "      <td>0.815229</td>\n",
       "      <td>0.184771</td>\n",
       "    </tr>\n",
       "  </tbody>\n",
       "</table>\n",
       "</div>"
      ],
      "text/plain": [
       "hospital_death                      0         1\n",
       "solid_tumor_with_metastasis                    \n",
       "0.0                          0.916035  0.083965\n",
       "1.0                          0.815229  0.184771"
      ]
     },
     "metadata": {},
     "output_type": "display_data"
    },
    {
     "data": {
      "image/png": "[encoded data removed]",
      "text/plain": [
       "<Figure size 1200x400 with 2 Axes>"
      ]
     },
     "metadata": {},
     "output_type": "display_data"
    },
    {
     "data": {
      "text/plain": [
       "'solid_tumor_with_metastasis'"
      ]
     },
     "execution_count": 16,
     "metadata": {},
     "output_type": "execute_result"
    }
   ],
   "source": [
    "fig, axs = plt.subplots(1, 2, figsize=(12, 4))\n",
    "grafico_qualitativa(\"solid_tumor_with_metastasis\", dados, axs[0])\n",
    "QualiQualiAssociation(\"solid_tumor_with_metastasis\",\"hospital_death\",dados,axs[1])\n",
    "plt.tight_layout()\n",
    "plt.show()\n",
    "\"solid_tumor_with_metastasis\""
   ]
  },
  {
   "cell_type": "markdown",
   "metadata": {},
   "source": [
    "* Na análise dos pacientes que possuem ou não tumor sólido com metástase vemos que somente 2.06% possuem a doença, mas ela possue uma grande interferência na taxa de mortalidade. \n",
    " Os pacientes que não foram diagnosticados com tumor sólido com metástase tem somente 8.39% na taxa de mortalidade enquanto os pacientes diagnosticados com tumor sólido com metástase tem 18.48% de taxa de mortalidade apresentando assim aproximadamente 10% a mais na taxa de mortalidade. \n"
   ]
  },
  {
   "cell_type": "code",
   "execution_count": 17,
   "metadata": {},
   "outputs": [
    {
     "data": {
      "text/html": [
       "<div>\n",
       "<style scoped>\n",
       "    .dataframe tbody tr th:only-of-type {\n",
       "        vertical-align: middle;\n",
       "    }\n",
       "\n",
       "    .dataframe tbody tr th {\n",
       "        vertical-align: top;\n",
       "    }\n",
       "\n",
       "    .dataframe thead th {\n",
       "        text-align: right;\n",
       "    }\n",
       "</style>\n",
       "<table border=\"1\" class=\"dataframe\">\n",
       "  <thead>\n",
       "    <tr style=\"text-align: right;\">\n",
       "      <th></th>\n",
       "      <th>icu_admit_source</th>\n",
       "      <th>Frequência</th>\n",
       "    </tr>\n",
       "  </thead>\n",
       "  <tbody>\n",
       "    <tr>\n",
       "      <th>0</th>\n",
       "      <td>Accident &amp; Emergency</td>\n",
       "      <td>0.590168</td>\n",
       "    </tr>\n",
       "    <tr>\n",
       "      <th>1</th>\n",
       "      <td>Operating Room / Recovery</td>\n",
       "      <td>0.204288</td>\n",
       "    </tr>\n",
       "    <tr>\n",
       "      <th>2</th>\n",
       "      <td>Floor</td>\n",
       "      <td>0.170424</td>\n",
       "    </tr>\n",
       "    <tr>\n",
       "      <th>3</th>\n",
       "      <td>Other Hospital</td>\n",
       "      <td>0.025742</td>\n",
       "    </tr>\n",
       "    <tr>\n",
       "      <th>4</th>\n",
       "      <td>Other ICU</td>\n",
       "      <td>0.009378</td>\n",
       "    </tr>\n",
       "  </tbody>\n",
       "</table>\n",
       "</div>"
      ],
      "text/plain": [
       "            icu_admit_source  Frequência\n",
       "0       Accident & Emergency    0.590168\n",
       "1  Operating Room / Recovery    0.204288\n",
       "2                      Floor    0.170424\n",
       "3             Other Hospital    0.025742\n",
       "4                  Other ICU    0.009378"
      ]
     },
     "metadata": {},
     "output_type": "display_data"
    },
    {
     "name": "stdout",
     "output_type": "stream",
     "text": [
      "******** Conditional Proportion: hospital_death per icu_admit_source ********\n"
     ]
    },
    {
     "data": {
      "text/html": [
       "<div>\n",
       "<style scoped>\n",
       "    .dataframe tbody tr th:only-of-type {\n",
       "        vertical-align: middle;\n",
       "    }\n",
       "\n",
       "    .dataframe tbody tr th {\n",
       "        vertical-align: top;\n",
       "    }\n",
       "\n",
       "    .dataframe thead th {\n",
       "        text-align: right;\n",
       "    }\n",
       "</style>\n",
       "<table border=\"1\" class=\"dataframe\">\n",
       "  <thead>\n",
       "    <tr style=\"text-align: right;\">\n",
       "      <th>hospital_death</th>\n",
       "      <th>0</th>\n",
       "      <th>1</th>\n",
       "    </tr>\n",
       "    <tr>\n",
       "      <th>icu_admit_source</th>\n",
       "      <th></th>\n",
       "      <th></th>\n",
       "    </tr>\n",
       "  </thead>\n",
       "  <tbody>\n",
       "    <tr>\n",
       "      <th>Accident &amp; Emergency</th>\n",
       "      <td>0.913615</td>\n",
       "      <td>0.086385</td>\n",
       "    </tr>\n",
       "    <tr>\n",
       "      <th>Floor</th>\n",
       "      <td>0.865864</td>\n",
       "      <td>0.134136</td>\n",
       "    </tr>\n",
       "    <tr>\n",
       "      <th>Operating Room / Recovery</th>\n",
       "      <td>0.962700</td>\n",
       "      <td>0.037300</td>\n",
       "    </tr>\n",
       "    <tr>\n",
       "      <th>Other Hospital</th>\n",
       "      <td>0.865564</td>\n",
       "      <td>0.134436</td>\n",
       "    </tr>\n",
       "    <tr>\n",
       "      <th>Other ICU</th>\n",
       "      <td>0.855646</td>\n",
       "      <td>0.144354</td>\n",
       "    </tr>\n",
       "  </tbody>\n",
       "</table>\n",
       "</div>"
      ],
      "text/plain": [
       "hospital_death                    0         1\n",
       "icu_admit_source                             \n",
       "Accident & Emergency       0.913615  0.086385\n",
       "Floor                      0.865864  0.134136\n",
       "Operating Room / Recovery  0.962700  0.037300\n",
       "Other Hospital             0.865564  0.134436\n",
       "Other ICU                  0.855646  0.144354"
      ]
     },
     "metadata": {},
     "output_type": "display_data"
    },
    {
     "data": {
      "image/png": "[encoded data removed]",
      "text/plain": [
       "<Figure size 1200x400 with 2 Axes>"
      ]
     },
     "metadata": {},
     "output_type": "display_data"
    }
   ],
   "source": [
    "\n",
    "fig, axs = plt.subplots(1, 2, figsize=(12, 4))\n",
    "grafico_qualitativa(\"icu_admit_source\", dados, axs[0])\n",
    "QualiQualiAssociation(\"icu_admit_source\",\"hospital_death\",dados,axs[1])\n",
    "plt.tight_layout()\n",
    "plt.show()"
   ]
  },
  {
   "cell_type": "markdown",
   "metadata": {},
   "source": [
    "* Na análise de localização do paciente antes de ser admitido na unidade vemos que a grande maioria dos pacientes vem da emergência e acidentes e que a minoria vem de outras UTI´s.  \n",
    "Porém na taxa de mortalidade uma pequena maioria de mortes é dos pacientes que vem de outra UTI e a menor taxa são dos pacientes que vem sala de operação e recuperação."
   ]
  },
  {
   "cell_type": "markdown",
   "metadata": {},
   "source": [
    "Na análise de variáveis qualitativas podemos ver que as variáveis que mais afetam na taxa de mortalide e portanto as de maior interesse são:  \n",
    "* os pacientes diagnosticados com leucemia.\n",
    "* os pacientes diagnosticados com tumor solido com metastase.\n",
    "* os pacientes  que dão entrada na UTI vindo de outra UTI."
   ]
  },
  {
   "cell_type": "markdown",
   "metadata": {},
   "source": [
    "## 3. Gráficos univariados e bivariados para quantitativas"
   ]
  },
  {
   "cell_type": "markdown",
   "metadata": {},
   "source": [
    "### 3.0 Introdução "
   ]
  },
  {
   "cell_type": "markdown",
   "metadata": {},
   "source": [
    "Como já mencionado analisaremos aqui algumas variaveis responsáveis por pontuar no apache-III.   \n",
    "São elas:  \n",
    "__resprate_apache__   \n",
    "__map_apache__  \n",
    "__temp_apache__   \n",
    "__heart_rate_apache__  "
   ]
  },
  {
   "cell_type": "markdown",
   "metadata": {},
   "source": [
    "Como as variáveis de interesse nos fornece valores de referencia por faixas etarias é importante analisar as medidas de posição e dispersão por idade. "
   ]
  },
  {
   "cell_type": "code",
   "execution_count": null,
   "metadata": {},
   "outputs": [],
   "source": [
    "dataframe = dados\n",
    "varName = \"age\"\n",
    "pd.DataFrame(dataframe[varName].describe()).transpose()\n",
    "display(dataframe.groupby('hospital_death')[varName].describe())\n",
    "bivariateGroup = dataframe.groupby('hospital_death')[varName]\n",
    "groupKeys = bivariateGroup.groups.keys()\n",
    "for key in groupKeys:\n",
    "    display(measuresOfPositionAndDispersion(bivariateGroup.get_group(key), key))"
   ]
  },
  {
   "cell_type": "markdown",
   "metadata": {},
   "source": [
    "Pelos dados obtidos podemos dizer que a maioria dos pacientes são idosos portanto consideraremos os valores da tabela correspondente a essa faixa etaria e tambem os valores de referencia fornecidos pelo ministerio da saude.   \n",
    "São eles:  \n",
    "* Temperatura corporal: entre 35 º C e 36º C.  \n",
    "* Frequência cardíaca (pulso): entre 60 e 90 bpm.  \n",
    "* Pressão arterial Sistólica: entre 100 e 140 mmHg e diastólica entre 60 e 90 mmHg.  \n",
    "* Respiração: entre 16 e 20 mrpm.  "
   ]
  },
  {
   "cell_type": "markdown",
   "metadata": {},
   "source": [
    "### 3.1 heart_rate_apache (Frequência cardiaca)"
   ]
  },
  {
   "cell_type": "code",
   "execution_count": null,
   "metadata": {},
   "outputs": [],
   "source": [
    "histograma(\"heart_rate_apache\",dados)"
   ]
  },
  {
   "cell_type": "markdown",
   "metadata": {},
   "source": [
    "* Por a análise do gráfico univariado de frequência cardiaca há uma concentração um pouco grande entre 45 e 60 mas que a maior concentração encontra-se entre 90 e 130.  \n",
    "O gráfico em boxplot nos mostra que as medidas abaixo de 40 e acima de 170 já são considerados pontos aberrantes.  \n",
    "Os valores esperados podem ser analisados de duas formas, pelas medidas de posição e dispersão vemos que a maioria dos pacientes estão acima dos 60 anos, portanto a frequência cardiaca esperada é entre 45 a 90 bpm.  \n",
    "O Ministério da Saúde estabeleceu valores normais de referência entre 60 e 90 bpm.  \n",
    "Assim, pela análise dessas duas referencias podemos afirmar que a frequencia cardica dos pacientes esta bastante elevada.  "
   ]
  },
  {
   "cell_type": "code",
   "execution_count": null,
   "metadata": {},
   "outputs": [],
   "source": [
    "qualitativaXquantativa(\"heart_rate_apache\",\"hospital_death\",dados,ax=None)"
   ]
  },
  {
   "cell_type": "markdown",
   "metadata": {},
   "source": [
    "* Análisando agora a frequência cardiaca das pessoas por morte obtemos dados interessantes.  \n",
    "Os pacientes que vieram a obito tiveram uma frequência cardiaca maior e isso é observado tanto no gráfico quanto na tabela.  \n",
    "Estes pacientes tem uma media mais elevada com aproximadamente 12 pontos a mais daqueles que não vieram a obito. Além disso, no gráfico podemos ver que os pacientes que morreram não possuem pontos aberrantes para cima.  \n",
    "Nas duas categorias de pacientes observamos que amédia de frequência cardiaca era acima dos valores de referência."
   ]
  },
  {
   "cell_type": "markdown",
   "metadata": {},
   "source": [
    "### 3.2 map_apache (Pressão arterial)"
   ]
  },
  {
   "cell_type": "code",
   "execution_count": null,
   "metadata": {},
   "outputs": [],
   "source": [
    "histograma(\"map_apache\",dados)"
   ]
  },
  {
   "cell_type": "markdown",
   "metadata": {},
   "source": [
    "* Na análise do gráfico univariado de pressão arterial percebemos que a maioria dos pacientes estão entre 40 e 80 de pressão arterial e que os outros estão distribuidos ao longo de de 110 a 200.  \n",
    "Apartir desses gráficos não conseguimos muitas  coisas, o boxplot não possui pontos aberrantes e o grafico de barras só nos mostrou a grande concentração de pessoas esta entre 40 e 60."
   ]
  },
  {
   "cell_type": "code",
   "execution_count": null,
   "metadata": {},
   "outputs": [],
   "source": [
    "qualitativaXquantativa(\"map_apache\",\"hospital_death\",dados)"
   ]
  },
  {
   "cell_type": "markdown",
   "metadata": {},
   "source": [
    "* Na análise do gráfico bivariado de pressão arterial obtemos melhores informações, no gráfico boxplot ainda não há pontos aberrantes no entanto vemos que os pacientes que vieram a obito possuem pressão arterial menos elevada em comparação as pessoas que não vieram a obito.  \n",
    "Os pacientes que morreram possuem 6 pontos de media menor."
   ]
  },
  {
   "cell_type": "markdown",
   "metadata": {},
   "source": [
    "### 3.3 temp_apache (Temperatura corporal)"
   ]
  },
  {
   "cell_type": "code",
   "execution_count": null,
   "metadata": {},
   "outputs": [],
   "source": [
    "histograma(\"temp_apache\",dados)"
   ]
  },
  {
   "cell_type": "markdown",
   "metadata": {},
   "source": [
    "* No gráfico univariado de temperatura percebemos uma grande concentração entre 36 e 37 e varios pontos aberrantes tanto para baixo quanto para cima.  \n",
    "A temperatura esperade tanto para pacientes idosos quanto pelo ministério da saúde é entre 36,1ºC e 37,2ºC.  \n",
    "Portnato, a concetração de pacientes esta com valores normais."
   ]
  },
  {
   "cell_type": "code",
   "execution_count": null,
   "metadata": {},
   "outputs": [],
   "source": [
    "qualitativaXquantativa(\"temp_apache\",\"hospital_death\",dados)"
   ]
  },
  {
   "cell_type": "markdown",
   "metadata": {},
   "source": [
    "* Na análise do gráfico bivariado de temperatura percebemos que os pacientes que vieram a obito tem valores abaixo do nivel de referencia sendo uma temperatura considerada baixa.  \n",
    "Também percebemos que o boxplot daqueles que morreram é mais cheio, por causa que há maior variabilidade de temperatura."
   ]
  },
  {
   "cell_type": "markdown",
   "metadata": {},
   "source": [
    "### 3.4 resprate_apache (Frequência respiratoria)"
   ]
  },
  {
   "cell_type": "code",
   "execution_count": null,
   "metadata": {},
   "outputs": [],
   "source": [
    "histograma(\"resprate_apache\",dados)"
   ]
  },
  {
   "cell_type": "markdown",
   "metadata": {},
   "source": [
    "* No gráfico univariado de frequencia respiratoria percebemos dois grandes pontos de concentração entre 5 e 15 e entre 25 e 40.  \n",
    "Observamos tambem que no grafico boxplot não há pontos aberrantes.  \n",
    "A frequencia respiratoria considerada normal no nosso grupo de interesse é entre 16 a 25 mrm e pelo ministerio da saude é de entre 16 e 20 mrpm.\n"
   ]
  },
  {
   "cell_type": "code",
   "execution_count": null,
   "metadata": {},
   "outputs": [],
   "source": [
    "qualitativaXquantativa(\"resprate_apache\",\"hospital_death\",dados)"
   ]
  },
  {
   "cell_type": "markdown",
   "metadata": {},
   "source": [
    "* No gráfico bivariado de frequencia respiratoria percebemos que a frequencia dos pacientes que vieram a obito é bem maior do que a esperada nos dois valores de referencia com 5 pontos a mais."
   ]
  },
  {
   "cell_type": "markdown",
   "metadata": {},
   "source": [
    "## 4. Medidas de posição e dispersão"
   ]
  },
  {
   "cell_type": "markdown",
   "metadata": {},
   "source": [
    "* Breve introdução:  \n",
    "\n",
    "As medidas de posição permitem inferir sobre o valor que a variável aleatória assumirá, ja as medidas de dispersão permitem medir quão confiáveis são estas inferências.  \n",
    "As medidas analisadas aqui serão a moda, a media, a mediana, a variancia e o desvio padrão.  \n",
    "A moda a média e a mediana são medidadas de posição e indicam:  \n",
    "* moda é o valor que é mais observado na amostra.  \n",
    "* média é a razão entre a soma dos valores observados e o número de valores observados, representa  o centro de gravidade da amostra.  \n",
    "* mediana é o valor que se localiza no centro de uma amostra ordenada.   \n",
    "O desvio padrão e variância sao medidas de dispersão e indicam:\n",
    "* Desvio padrão \n",
    "*\n",
    "Ja as variaveis analisadas serão as mesmas variaveis quantitativas analisadas, por terem relação com o diagnostico APACHE-III e fornecerem bons resultados sobre o estado do paciente.   \n",
    "Como as variáveis de interesse nos fornece valores de referencia por faixas etarias é importante analisar as medidas de posição e dispersão por idade.  \n"
   ]
  },
  {
   "cell_type": "code",
   "execution_count": null,
   "metadata": {},
   "outputs": [],
   "source": [
    "dataframe = dados\n",
    "varName = \"age\"\n",
    "pd.DataFrame(dataframe[varName].describe()).transpose()\n",
    "display(dataframe.groupby('hospital_death')[varName].describe())\n",
    "bivariateGroup = dataframe.groupby('hospital_death')[varName]\n",
    "groupKeys = bivariateGroup.groups.keys()\n",
    "for key in groupKeys:\n",
    "    display(measuresOfPositionAndDispersion(bivariateGroup.get_group(key), key))"
   ]
  },
  {
   "cell_type": "markdown",
   "metadata": {},
   "source": [
    "\n",
    "Pelos dados obtidos podemos dizer que a maioria dos pacientes são idosos portanto consideraremos os valores da tabela correspondente a essa faixa etária e também os valores de referência fornecidos pelo ministério da saúde.   \n",
    "São eles:  \n",
    "* Temperatura corporal: entre 35 º C e 36º C.  \n",
    "* Frequência cardíaca (pulso): entre 60 e 90 bpm.  \n",
    "* Pressão arterial Sistólica: entre 100 e 140 mmHg e diastólica entre 60 e 90 mmHg.  \n",
    "* Respiração: entre 16 e 20 mrpm.  \n"
   ]
  },
  {
   "cell_type": "markdown",
   "metadata": {},
   "source": [
    "### 3.1 heart_rate_apache"
   ]
  },
  {
   "cell_type": "code",
   "execution_count": 22,
   "metadata": {},
   "outputs": [
    {
     "data": {
      "text/html": [
       "<div>\n",
       "<style scoped>\n",
       "    .dataframe tbody tr th:only-of-type {\n",
       "        vertical-align: middle;\n",
       "    }\n",
       "\n",
       "    .dataframe tbody tr th {\n",
       "        vertical-align: top;\n",
       "    }\n",
       "\n",
       "    .dataframe thead th {\n",
       "        text-align: right;\n",
       "    }\n",
       "</style>\n",
       "<table border=\"1\" class=\"dataframe\">\n",
       "  <thead>\n",
       "    <tr style=\"text-align: right;\">\n",
       "      <th></th>\n",
       "      <th>count</th>\n",
       "      <th>mean</th>\n",
       "      <th>std</th>\n",
       "      <th>min</th>\n",
       "      <th>25%</th>\n",
       "      <th>50%</th>\n",
       "      <th>75%</th>\n",
       "      <th>max</th>\n",
       "    </tr>\n",
       "    <tr>\n",
       "      <th>hospital_death</th>\n",
       "      <th></th>\n",
       "      <th></th>\n",
       "      <th></th>\n",
       "      <th></th>\n",
       "      <th></th>\n",
       "      <th></th>\n",
       "      <th></th>\n",
       "      <th></th>\n",
       "    </tr>\n",
       "  </thead>\n",
       "  <tbody>\n",
       "    <tr>\n",
       "      <th>0</th>\n",
       "      <td>83026.0</td>\n",
       "      <td>98.687170</td>\n",
       "      <td>30.301010</td>\n",
       "      <td>30.0</td>\n",
       "      <td>85.0</td>\n",
       "      <td>103.0</td>\n",
       "      <td>118.0</td>\n",
       "      <td>178.0</td>\n",
       "    </tr>\n",
       "    <tr>\n",
       "      <th>1</th>\n",
       "      <td>7809.0</td>\n",
       "      <td>110.560763</td>\n",
       "      <td>34.563873</td>\n",
       "      <td>30.0</td>\n",
       "      <td>96.0</td>\n",
       "      <td>116.0</td>\n",
       "      <td>133.0</td>\n",
       "      <td>178.0</td>\n",
       "    </tr>\n",
       "  </tbody>\n",
       "</table>\n",
       "</div>"
      ],
      "text/plain": [
       "                  count        mean        std   min   25%    50%    75%  \\\n",
       "hospital_death                                                             \n",
       "0               83026.0   98.687170  30.301010  30.0  85.0  103.0  118.0   \n",
       "1                7809.0  110.560763  34.563873  30.0  96.0  116.0  133.0   \n",
       "\n",
       "                  max  \n",
       "hospital_death         \n",
       "0               178.0  \n",
       "1               178.0  "
      ]
     },
     "metadata": {},
     "output_type": "display_data"
    },
    {
     "data": {
      "text/html": [
       "<div>\n",
       "<style scoped>\n",
       "    .dataframe tbody tr th:only-of-type {\n",
       "        vertical-align: middle;\n",
       "    }\n",
       "\n",
       "    .dataframe tbody tr th {\n",
       "        vertical-align: top;\n",
       "    }\n",
       "\n",
       "    .dataframe thead th {\n",
       "        text-align: right;\n",
       "    }\n",
       "</style>\n",
       "<table border=\"1\" class=\"dataframe\">\n",
       "  <thead>\n",
       "    <tr style=\"text-align: right;\">\n",
       "      <th></th>\n",
       "      <th>Variable</th>\n",
       "      <th>Amount</th>\n",
       "      <th>Mean</th>\n",
       "      <th>Mode</th>\n",
       "      <th>Median</th>\n",
       "      <th>Variance</th>\n",
       "      <th>Standard deviation</th>\n",
       "      <th>Amplitude</th>\n",
       "    </tr>\n",
       "  </thead>\n",
       "  <tbody>\n",
       "    <tr>\n",
       "      <th>0</th>\n",
       "      <td>0</td>\n",
       "      <td>83798</td>\n",
       "      <td>98.68717</td>\n",
       "      <td>100.0</td>\n",
       "      <td>103.0</td>\n",
       "      <td>918.151206</td>\n",
       "      <td>30.30101</td>\n",
       "      <td>148.0</td>\n",
       "    </tr>\n",
       "  </tbody>\n",
       "</table>\n",
       "</div>"
      ],
      "text/plain": [
       "   Variable  Amount      Mean  Mode   Median    Variance  Standard deviation  \\\n",
       "0         0   83798  98.68717  100.0   103.0  918.151206            30.30101   \n",
       "\n",
       "   Amplitude  \n",
       "0      148.0  "
      ]
     },
     "metadata": {},
     "output_type": "display_data"
    },
    {
     "data": {
      "text/html": [
       "<div>\n",
       "<style scoped>\n",
       "    .dataframe tbody tr th:only-of-type {\n",
       "        vertical-align: middle;\n",
       "    }\n",
       "\n",
       "    .dataframe tbody tr th {\n",
       "        vertical-align: top;\n",
       "    }\n",
       "\n",
       "    .dataframe thead th {\n",
       "        text-align: right;\n",
       "    }\n",
       "</style>\n",
       "<table border=\"1\" class=\"dataframe\">\n",
       "  <thead>\n",
       "    <tr style=\"text-align: right;\">\n",
       "      <th></th>\n",
       "      <th>Variable</th>\n",
       "      <th>Amount</th>\n",
       "      <th>Mean</th>\n",
       "      <th>Mode</th>\n",
       "      <th>Median</th>\n",
       "      <th>Variance</th>\n",
       "      <th>Standard deviation</th>\n",
       "      <th>Amplitude</th>\n",
       "    </tr>\n",
       "  </thead>\n",
       "  <tbody>\n",
       "    <tr>\n",
       "      <th>0</th>\n",
       "      <td>1</td>\n",
       "      <td>7915</td>\n",
       "      <td>110.560763</td>\n",
       "      <td>30.0</td>\n",
       "      <td>116.0</td>\n",
       "      <td>1194.661298</td>\n",
       "      <td>34.563873</td>\n",
       "      <td>148.0</td>\n",
       "    </tr>\n",
       "  </tbody>\n",
       "</table>\n",
       "</div>"
      ],
      "text/plain": [
       "   Variable  Amount        Mean  Mode   Median     Variance  \\\n",
       "0         1    7915  110.560763   30.0   116.0  1194.661298   \n",
       "\n",
       "   Standard deviation  Amplitude  \n",
       "0           34.563873      148.0  "
      ]
     },
     "metadata": {},
     "output_type": "display_data"
    }
   ],
   "source": [
    "dataframe = dados\n",
    "varName = \"heart_rate_apache\"\n",
    "pd.DataFrame(dataframe[varName].describe()).transpose()\n",
    "display(dataframe.groupby('hospital_death')[varName].describe())\n",
    "bivariateGroup = dataframe.groupby('hospital_death')[varName]\n",
    "groupKeys = bivariateGroup.groups.keys()\n",
    "for key in groupKeys:\n",
    "    display(measuresOfPositionAndDispersion(bivariateGroup.get_group(key), key))"
   ]
  },
  {
   "cell_type": "markdown",
   "metadata": {},
   "source": [
    "* Na análise das medidas de posição e dispersão da frequência cardíaca vemos uma média e mediana menor para os pacientes que permaneceram vivos e também um desvio padrâo e variância menor em relação aqueles que vieram a óbito.  \n",
    "Porém, os pacientes que nao morreram estão com uma moda extramamente maior que aqueles que morreram."
   ]
  },
  {
   "cell_type": "markdown",
   "metadata": {},
   "source": [
    "### 3.2 map_apache"
   ]
  },
  {
   "cell_type": "code",
   "execution_count": 23,
   "metadata": {},
   "outputs": [
    {
     "data": {
      "text/html": [
       "<div>\n",
       "<style scoped>\n",
       "    .dataframe tbody tr th:only-of-type {\n",
       "        vertical-align: middle;\n",
       "    }\n",
       "\n",
       "    .dataframe tbody tr th {\n",
       "        vertical-align: top;\n",
       "    }\n",
       "\n",
       "    .dataframe thead th {\n",
       "        text-align: right;\n",
       "    }\n",
       "</style>\n",
       "<table border=\"1\" class=\"dataframe\">\n",
       "  <thead>\n",
       "    <tr style=\"text-align: right;\">\n",
       "      <th></th>\n",
       "      <th>count</th>\n",
       "      <th>mean</th>\n",
       "      <th>std</th>\n",
       "      <th>min</th>\n",
       "      <th>25%</th>\n",
       "      <th>50%</th>\n",
       "      <th>75%</th>\n",
       "      <th>max</th>\n",
       "    </tr>\n",
       "    <tr>\n",
       "      <th>hospital_death</th>\n",
       "      <th></th>\n",
       "      <th></th>\n",
       "      <th></th>\n",
       "      <th></th>\n",
       "      <th></th>\n",
       "      <th></th>\n",
       "      <th></th>\n",
       "      <th></th>\n",
       "    </tr>\n",
       "  </thead>\n",
       "  <tbody>\n",
       "    <tr>\n",
       "      <th>0</th>\n",
       "      <td>82928.0</td>\n",
       "      <td>88.537985</td>\n",
       "      <td>41.389294</td>\n",
       "      <td>40.0</td>\n",
       "      <td>55.0</td>\n",
       "      <td>67.0</td>\n",
       "      <td>124.0</td>\n",
       "      <td>200.0</td>\n",
       "    </tr>\n",
       "    <tr>\n",
       "      <th>1</th>\n",
       "      <td>7791.0</td>\n",
       "      <td>82.458478</td>\n",
       "      <td>48.002929</td>\n",
       "      <td>40.0</td>\n",
       "      <td>45.0</td>\n",
       "      <td>56.0</td>\n",
       "      <td>128.0</td>\n",
       "      <td>200.0</td>\n",
       "    </tr>\n",
       "  </tbody>\n",
       "</table>\n",
       "</div>"
      ],
      "text/plain": [
       "                  count       mean        std   min   25%   50%    75%    max\n",
       "hospital_death                                                               \n",
       "0               82928.0  88.537985  41.389294  40.0  55.0  67.0  124.0  200.0\n",
       "1                7791.0  82.458478  48.002929  40.0  45.0  56.0  128.0  200.0"
      ]
     },
     "metadata": {},
     "output_type": "display_data"
    },
    {
     "data": {
      "text/html": [
       "<div>\n",
       "<style scoped>\n",
       "    .dataframe tbody tr th:only-of-type {\n",
       "        vertical-align: middle;\n",
       "    }\n",
       "\n",
       "    .dataframe tbody tr th {\n",
       "        vertical-align: top;\n",
       "    }\n",
       "\n",
       "    .dataframe thead th {\n",
       "        text-align: right;\n",
       "    }\n",
       "</style>\n",
       "<table border=\"1\" class=\"dataframe\">\n",
       "  <thead>\n",
       "    <tr style=\"text-align: right;\">\n",
       "      <th></th>\n",
       "      <th>Variable</th>\n",
       "      <th>Amount</th>\n",
       "      <th>Mean</th>\n",
       "      <th>Mode</th>\n",
       "      <th>Median</th>\n",
       "      <th>Variance</th>\n",
       "      <th>Standard deviation</th>\n",
       "      <th>Amplitude</th>\n",
       "    </tr>\n",
       "  </thead>\n",
       "  <tbody>\n",
       "    <tr>\n",
       "      <th>0</th>\n",
       "      <td>0</td>\n",
       "      <td>83798</td>\n",
       "      <td>88.537985</td>\n",
       "      <td>56.0</td>\n",
       "      <td>67.0</td>\n",
       "      <td>1713.073623</td>\n",
       "      <td>41.389294</td>\n",
       "      <td>160.0</td>\n",
       "    </tr>\n",
       "  </tbody>\n",
       "</table>\n",
       "</div>"
      ],
      "text/plain": [
       "   Variable  Amount       Mean  Mode   Median     Variance  \\\n",
       "0         0   83798  88.537985   56.0    67.0  1713.073623   \n",
       "\n",
       "   Standard deviation  Amplitude  \n",
       "0           41.389294      160.0  "
      ]
     },
     "metadata": {},
     "output_type": "display_data"
    },
    {
     "data": {
      "text/html": [
       "<div>\n",
       "<style scoped>\n",
       "    .dataframe tbody tr th:only-of-type {\n",
       "        vertical-align: middle;\n",
       "    }\n",
       "\n",
       "    .dataframe tbody tr th {\n",
       "        vertical-align: top;\n",
       "    }\n",
       "\n",
       "    .dataframe thead th {\n",
       "        text-align: right;\n",
       "    }\n",
       "</style>\n",
       "<table border=\"1\" class=\"dataframe\">\n",
       "  <thead>\n",
       "    <tr style=\"text-align: right;\">\n",
       "      <th></th>\n",
       "      <th>Variable</th>\n",
       "      <th>Amount</th>\n",
       "      <th>Mean</th>\n",
       "      <th>Mode</th>\n",
       "      <th>Median</th>\n",
       "      <th>Variance</th>\n",
       "      <th>Standard deviation</th>\n",
       "      <th>Amplitude</th>\n",
       "    </tr>\n",
       "  </thead>\n",
       "  <tbody>\n",
       "    <tr>\n",
       "      <th>0</th>\n",
       "      <td>1</td>\n",
       "      <td>7915</td>\n",
       "      <td>82.458478</td>\n",
       "      <td>40.0</td>\n",
       "      <td>56.0</td>\n",
       "      <td>2304.28117</td>\n",
       "      <td>48.002929</td>\n",
       "      <td>160.0</td>\n",
       "    </tr>\n",
       "  </tbody>\n",
       "</table>\n",
       "</div>"
      ],
      "text/plain": [
       "   Variable  Amount       Mean  Mode   Median    Variance  Standard deviation  \\\n",
       "0         1    7915  82.458478   40.0    56.0  2304.28117           48.002929   \n",
       "\n",
       "   Amplitude  \n",
       "0      160.0  "
      ]
     },
     "metadata": {},
     "output_type": "display_data"
    }
   ],
   "source": [
    "dataframe = dados\n",
    "varName = \"map_apache\"\n",
    "pd.DataFrame(dataframe[varName].describe()).transpose()\n",
    "display(dataframe.groupby('hospital_death')[varName].describe())\n",
    "bivariateGroup = dataframe.groupby('hospital_death')[varName]\n",
    "groupKeys = bivariateGroup.groups.keys()\n",
    "for key in groupKeys:\n",
    "    display(measuresOfPositionAndDispersion(bivariateGroup.get_group(key), key))"
   ]
  },
  {
   "cell_type": "markdown",
   "metadata": {},
   "source": [
    "* Na análise das medidas de posição e dispersão da pressão arterial vemos que aqueles pacientes que permaneceram vivos tem medidas como média, moda e mediana maiores do que aqueles que vieram a óbito porem com variância e desvio padrão menores.  \n",
    "Observamos também que das variáveis analisadas são aqueles que possuem maior variância e desvio padrão indicando a grande distância e variabilidade dos dados em ambas as categorias."
   ]
  },
  {
   "cell_type": "markdown",
   "metadata": {},
   "source": [
    "### 3.3 resprate_apache"
   ]
  },
  {
   "cell_type": "code",
   "execution_count": 24,
   "metadata": {},
   "outputs": [
    {
     "data": {
      "text/html": [
       "<div>\n",
       "<style scoped>\n",
       "    .dataframe tbody tr th:only-of-type {\n",
       "        vertical-align: middle;\n",
       "    }\n",
       "\n",
       "    .dataframe tbody tr th {\n",
       "        vertical-align: top;\n",
       "    }\n",
       "\n",
       "    .dataframe thead th {\n",
       "        text-align: right;\n",
       "    }\n",
       "</style>\n",
       "<table border=\"1\" class=\"dataframe\">\n",
       "  <thead>\n",
       "    <tr style=\"text-align: right;\">\n",
       "      <th></th>\n",
       "      <th>count</th>\n",
       "      <th>mean</th>\n",
       "      <th>std</th>\n",
       "      <th>min</th>\n",
       "      <th>25%</th>\n",
       "      <th>50%</th>\n",
       "      <th>75%</th>\n",
       "      <th>max</th>\n",
       "    </tr>\n",
       "    <tr>\n",
       "      <th>hospital_death</th>\n",
       "      <th></th>\n",
       "      <th></th>\n",
       "      <th></th>\n",
       "      <th></th>\n",
       "      <th></th>\n",
       "      <th></th>\n",
       "      <th></th>\n",
       "      <th></th>\n",
       "    </tr>\n",
       "  </thead>\n",
       "  <tbody>\n",
       "    <tr>\n",
       "      <th>0</th>\n",
       "      <td>82687.0</td>\n",
       "      <td>25.409111</td>\n",
       "      <td>15.072045</td>\n",
       "      <td>4.0</td>\n",
       "      <td>11.0</td>\n",
       "      <td>27.0</td>\n",
       "      <td>36.0</td>\n",
       "      <td>60.0</td>\n",
       "    </tr>\n",
       "    <tr>\n",
       "      <th>1</th>\n",
       "      <td>7792.0</td>\n",
       "      <td>30.075834</td>\n",
       "      <td>14.808783</td>\n",
       "      <td>4.0</td>\n",
       "      <td>16.0</td>\n",
       "      <td>32.0</td>\n",
       "      <td>39.0</td>\n",
       "      <td>60.0</td>\n",
       "    </tr>\n",
       "  </tbody>\n",
       "</table>\n",
       "</div>"
      ],
      "text/plain": [
       "                  count       mean        std  min   25%   50%   75%   max\n",
       "hospital_death                                                            \n",
       "0               82687.0  25.409111  15.072045  4.0  11.0  27.0  36.0  60.0\n",
       "1                7792.0  30.075834  14.808783  4.0  16.0  32.0  39.0  60.0"
      ]
     },
     "metadata": {},
     "output_type": "display_data"
    },
    {
     "data": {
      "text/html": [
       "<div>\n",
       "<style scoped>\n",
       "    .dataframe tbody tr th:only-of-type {\n",
       "        vertical-align: middle;\n",
       "    }\n",
       "\n",
       "    .dataframe tbody tr th {\n",
       "        vertical-align: top;\n",
       "    }\n",
       "\n",
       "    .dataframe thead th {\n",
       "        text-align: right;\n",
       "    }\n",
       "</style>\n",
       "<table border=\"1\" class=\"dataframe\">\n",
       "  <thead>\n",
       "    <tr style=\"text-align: right;\">\n",
       "      <th></th>\n",
       "      <th>Variable</th>\n",
       "      <th>Amount</th>\n",
       "      <th>Mean</th>\n",
       "      <th>Mode</th>\n",
       "      <th>Median</th>\n",
       "      <th>Variance</th>\n",
       "      <th>Standard deviation</th>\n",
       "      <th>Amplitude</th>\n",
       "    </tr>\n",
       "  </thead>\n",
       "  <tbody>\n",
       "    <tr>\n",
       "      <th>0</th>\n",
       "      <td>0</td>\n",
       "      <td>83798</td>\n",
       "      <td>25.409111</td>\n",
       "      <td>10.0</td>\n",
       "      <td>27.0</td>\n",
       "      <td>227.166528</td>\n",
       "      <td>15.072045</td>\n",
       "      <td>56.0</td>\n",
       "    </tr>\n",
       "  </tbody>\n",
       "</table>\n",
       "</div>"
      ],
      "text/plain": [
       "   Variable  Amount       Mean  Mode   Median    Variance  Standard deviation  \\\n",
       "0         0   83798  25.409111   10.0    27.0  227.166528           15.072045   \n",
       "\n",
       "   Amplitude  \n",
       "0       56.0  "
      ]
     },
     "metadata": {},
     "output_type": "display_data"
    },
    {
     "data": {
      "text/html": [
       "<div>\n",
       "<style scoped>\n",
       "    .dataframe tbody tr th:only-of-type {\n",
       "        vertical-align: middle;\n",
       "    }\n",
       "\n",
       "    .dataframe tbody tr th {\n",
       "        vertical-align: top;\n",
       "    }\n",
       "\n",
       "    .dataframe thead th {\n",
       "        text-align: right;\n",
       "    }\n",
       "</style>\n",
       "<table border=\"1\" class=\"dataframe\">\n",
       "  <thead>\n",
       "    <tr style=\"text-align: right;\">\n",
       "      <th></th>\n",
       "      <th>Variable</th>\n",
       "      <th>Amount</th>\n",
       "      <th>Mean</th>\n",
       "      <th>Mode</th>\n",
       "      <th>Median</th>\n",
       "      <th>Variance</th>\n",
       "      <th>Standard deviation</th>\n",
       "      <th>Amplitude</th>\n",
       "    </tr>\n",
       "  </thead>\n",
       "  <tbody>\n",
       "    <tr>\n",
       "      <th>0</th>\n",
       "      <td>1</td>\n",
       "      <td>7915</td>\n",
       "      <td>30.075834</td>\n",
       "      <td>4.0</td>\n",
       "      <td>32.0</td>\n",
       "      <td>219.300064</td>\n",
       "      <td>14.808783</td>\n",
       "      <td>56.0</td>\n",
       "    </tr>\n",
       "  </tbody>\n",
       "</table>\n",
       "</div>"
      ],
      "text/plain": [
       "   Variable  Amount       Mean  Mode   Median    Variance  Standard deviation  \\\n",
       "0         1    7915  30.075834    4.0    32.0  219.300064           14.808783   \n",
       "\n",
       "   Amplitude  \n",
       "0       56.0  "
      ]
     },
     "metadata": {},
     "output_type": "display_data"
    }
   ],
   "source": [
    "dataframe = dados\n",
    "varName = \"resprate_apache\"\n",
    "pd.DataFrame(dataframe[varName].describe()).transpose()\n",
    "display(dataframe.groupby('hospital_death')[varName].describe())\n",
    "bivariateGroup = dataframe.groupby('hospital_death')[varName]\n",
    "groupKeys = bivariateGroup.groups.keys()\n",
    "for key in groupKeys:\n",
    "    display(measuresOfPositionAndDispersion(bivariateGroup.get_group(key), key))"
   ]
  },
  {
   "cell_type": "markdown",
   "metadata": {},
   "source": [
    "* Na análise das medidas de posição e dispersão da frequência respiratória vemos que os dados daqueles que permaneceram vivos tem medidas de média e e mediana menores daqueles que vieram a óbito mas que medidas como moda, variância e desvio padrão são bem maiores o que pode indicar uma grande variabilidade dos dados daqueles que permaneceram vivos.  \n",
    "Tambem percebemos que as medidas tanto de variancia quanto desvio padrão sao altosem ambas as categorias."
   ]
  },
  {
   "cell_type": "markdown",
   "metadata": {},
   "source": [
    "### 3.4 temp_apache"
   ]
  },
  {
   "cell_type": "code",
   "execution_count": 25,
   "metadata": {},
   "outputs": [
    {
     "data": {
      "text/html": [
       "<div>\n",
       "<style scoped>\n",
       "    .dataframe tbody tr th:only-of-type {\n",
       "        vertical-align: middle;\n",
       "    }\n",
       "\n",
       "    .dataframe tbody tr th {\n",
       "        vertical-align: top;\n",
       "    }\n",
       "\n",
       "    .dataframe thead th {\n",
       "        text-align: right;\n",
       "    }\n",
       "</style>\n",
       "<table border=\"1\" class=\"dataframe\">\n",
       "  <thead>\n",
       "    <tr style=\"text-align: right;\">\n",
       "      <th></th>\n",
       "      <th>count</th>\n",
       "      <th>mean</th>\n",
       "      <th>std</th>\n",
       "      <th>min</th>\n",
       "      <th>25%</th>\n",
       "      <th>50%</th>\n",
       "      <th>75%</th>\n",
       "      <th>max</th>\n",
       "    </tr>\n",
       "    <tr>\n",
       "      <th>hospital_death</th>\n",
       "      <th></th>\n",
       "      <th></th>\n",
       "      <th></th>\n",
       "      <th></th>\n",
       "      <th></th>\n",
       "      <th></th>\n",
       "      <th></th>\n",
       "      <th></th>\n",
       "    </tr>\n",
       "  </thead>\n",
       "  <tbody>\n",
       "    <tr>\n",
       "      <th>0</th>\n",
       "      <td>80249.0</td>\n",
       "      <td>36.454504</td>\n",
       "      <td>0.737525</td>\n",
       "      <td>32.1</td>\n",
       "      <td>36.2</td>\n",
       "      <td>36.5</td>\n",
       "      <td>36.7</td>\n",
       "      <td>39.7</td>\n",
       "    </tr>\n",
       "    <tr>\n",
       "      <th>1</th>\n",
       "      <td>7356.0</td>\n",
       "      <td>35.977758</td>\n",
       "      <td>1.460004</td>\n",
       "      <td>32.1</td>\n",
       "      <td>35.6</td>\n",
       "      <td>36.3</td>\n",
       "      <td>36.7</td>\n",
       "      <td>39.7</td>\n",
       "    </tr>\n",
       "  </tbody>\n",
       "</table>\n",
       "</div>"
      ],
      "text/plain": [
       "                  count       mean       std   min   25%   50%   75%   max\n",
       "hospital_death                                                            \n",
       "0               80249.0  36.454504  0.737525  32.1  36.2  36.5  36.7  39.7\n",
       "1                7356.0  35.977758  1.460004  32.1  35.6  36.3  36.7  39.7"
      ]
     },
     "metadata": {},
     "output_type": "display_data"
    },
    {
     "data": {
      "text/html": [
       "<div>\n",
       "<style scoped>\n",
       "    .dataframe tbody tr th:only-of-type {\n",
       "        vertical-align: middle;\n",
       "    }\n",
       "\n",
       "    .dataframe tbody tr th {\n",
       "        vertical-align: top;\n",
       "    }\n",
       "\n",
       "    .dataframe thead th {\n",
       "        text-align: right;\n",
       "    }\n",
       "</style>\n",
       "<table border=\"1\" class=\"dataframe\">\n",
       "  <thead>\n",
       "    <tr style=\"text-align: right;\">\n",
       "      <th></th>\n",
       "      <th>Variable</th>\n",
       "      <th>Amount</th>\n",
       "      <th>Mean</th>\n",
       "      <th>Mode</th>\n",
       "      <th>Median</th>\n",
       "      <th>Variance</th>\n",
       "      <th>Standard deviation</th>\n",
       "      <th>Amplitude</th>\n",
       "    </tr>\n",
       "  </thead>\n",
       "  <tbody>\n",
       "    <tr>\n",
       "      <th>0</th>\n",
       "      <td>0</td>\n",
       "      <td>83798</td>\n",
       "      <td>36.454504</td>\n",
       "      <td>36.4</td>\n",
       "      <td>36.5</td>\n",
       "      <td>0.543944</td>\n",
       "      <td>0.737525</td>\n",
       "      <td>7.6</td>\n",
       "    </tr>\n",
       "  </tbody>\n",
       "</table>\n",
       "</div>"
      ],
      "text/plain": [
       "   Variable  Amount       Mean  Mode   Median  Variance  Standard deviation  \\\n",
       "0         0   83798  36.454504   36.4    36.5  0.543944            0.737525   \n",
       "\n",
       "   Amplitude  \n",
       "0        7.6  "
      ]
     },
     "metadata": {},
     "output_type": "display_data"
    },
    {
     "data": {
      "text/html": [
       "<div>\n",
       "<style scoped>\n",
       "    .dataframe tbody tr th:only-of-type {\n",
       "        vertical-align: middle;\n",
       "    }\n",
       "\n",
       "    .dataframe tbody tr th {\n",
       "        vertical-align: top;\n",
       "    }\n",
       "\n",
       "    .dataframe thead th {\n",
       "        text-align: right;\n",
       "    }\n",
       "</style>\n",
       "<table border=\"1\" class=\"dataframe\">\n",
       "  <thead>\n",
       "    <tr style=\"text-align: right;\">\n",
       "      <th></th>\n",
       "      <th>Variable</th>\n",
       "      <th>Amount</th>\n",
       "      <th>Mean</th>\n",
       "      <th>Mode</th>\n",
       "      <th>Median</th>\n",
       "      <th>Variance</th>\n",
       "      <th>Standard deviation</th>\n",
       "      <th>Amplitude</th>\n",
       "    </tr>\n",
       "  </thead>\n",
       "  <tbody>\n",
       "    <tr>\n",
       "      <th>0</th>\n",
       "      <td>1</td>\n",
       "      <td>7915</td>\n",
       "      <td>35.977758</td>\n",
       "      <td>36.4</td>\n",
       "      <td>36.3</td>\n",
       "      <td>2.13161</td>\n",
       "      <td>1.460004</td>\n",
       "      <td>7.6</td>\n",
       "    </tr>\n",
       "  </tbody>\n",
       "</table>\n",
       "</div>"
      ],
      "text/plain": [
       "   Variable  Amount       Mean  Mode   Median  Variance  Standard deviation  \\\n",
       "0         1    7915  35.977758   36.4    36.3   2.13161            1.460004   \n",
       "\n",
       "   Amplitude  \n",
       "0        7.6  "
      ]
     },
     "metadata": {},
     "output_type": "display_data"
    }
   ],
   "source": [
    "dataframe = dados\n",
    "varName = \"temp_apache\"\n",
    "pd.DataFrame(dataframe[varName].describe()).transpose()\n",
    "display(dataframe.groupby('hospital_death')[varName].describe())\n",
    "bivariateGroup = dataframe.groupby('hospital_death')[varName]\n",
    "groupKeys = bivariateGroup.groups.keys()\n",
    "for key in groupKeys:\n",
    "    display(measuresOfPositionAndDispersion(bivariateGroup.get_group(key), key))"
   ]
  },
  {
   "cell_type": "markdown",
   "metadata": {},
   "source": [
    "* Na análise das medidas de posição e dispersão da temeperatura observamos que os pacientes com uma temperatura em torno da considerada normal são aqueles pacientes que permaneceram vivos com moda, mediana e média em torno de 36.5 e com variância e desvio padrão considerados baixos no nosso conjunto de dados, o que indica uma baixa variabilidade.  \n",
    "Ademais, também percebemos que possuem variância e um desvio padrão menor em relação aos pacientes que vieram a óbito.Os pacientes que vieram a óbito tem uma média de temperatura menor que ja pode ser considerada fora do normal mas que possui mediana e moda não tão diferente daqueles que permaneceram vivos."
   ]
  }
 ],
 "metadata": {
  "kernelspec": {
   "display_name": "Python 3",
   "language": "python",
   "name": "python3"
  },
  "language_info": {
   "codemirror_mode": {
    "name": "ipython",
    "version": 3
   },
   "file_extension": ".py",
   "mimetype": "text/x-python",
   "name": "python",
   "nbconvert_exporter": "python",
   "pygments_lexer": "ipython3",
   "version": "3.11.5"
  }
 },
 "nbformat": 4,
 "nbformat_minor": 2
}
