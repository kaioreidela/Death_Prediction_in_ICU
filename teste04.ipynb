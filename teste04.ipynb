{
 "cells": [
  {
   "cell_type": "code",
   "execution_count": 1,
   "metadata": {},
   "outputs": [],
   "source": [
    "import pandas as pd\n",
    "from scipy.stats import norm\n",
    "import statistics\n",
    "import math\n",
    "import numpy as np\n",
    "from scipy.stats import t"
   ]
  },
  {
   "cell_type": "code",
   "execution_count": 2,
   "metadata": {},
   "outputs": [
    {
     "data": {
      "text/html": [
       "<div>\n",
       "<style scoped>\n",
       "    .dataframe tbody tr th:only-of-type {\n",
       "        vertical-align: middle;\n",
       "    }\n",
       "\n",
       "    .dataframe tbody tr th {\n",
       "        vertical-align: top;\n",
       "    }\n",
       "\n",
       "    .dataframe thead th {\n",
       "        text-align: right;\n",
       "    }\n",
       "</style>\n",
       "<table border=\"1\" class=\"dataframe\">\n",
       "  <thead>\n",
       "    <tr style=\"text-align: right;\">\n",
       "      <th></th>\n",
       "      <th>Fornecedor</th>\n",
       "      <th>Degradacao</th>\n",
       "      <th>TempoFalha</th>\n",
       "      <th>nReincidenciaFalhas</th>\n",
       "    </tr>\n",
       "  </thead>\n",
       "  <tbody>\n",
       "    <tr>\n",
       "      <th>0</th>\n",
       "      <td>B</td>\n",
       "      <td>Alto</td>\n",
       "      <td>1,957,317,971</td>\n",
       "      <td>2</td>\n",
       "    </tr>\n",
       "    <tr>\n",
       "      <th>1</th>\n",
       "      <td>B</td>\n",
       "      <td>Alto</td>\n",
       "      <td>0.364676956</td>\n",
       "      <td>13</td>\n",
       "    </tr>\n",
       "    <tr>\n",
       "      <th>2</th>\n",
       "      <td>B</td>\n",
       "      <td>Medio</td>\n",
       "      <td>2,640,281,946</td>\n",
       "      <td>1</td>\n",
       "    </tr>\n",
       "    <tr>\n",
       "      <th>3</th>\n",
       "      <td>B</td>\n",
       "      <td>Alto</td>\n",
       "      <td>1,187,133,811</td>\n",
       "      <td>0</td>\n",
       "    </tr>\n",
       "    <tr>\n",
       "      <th>4</th>\n",
       "      <td>A</td>\n",
       "      <td>Baixo</td>\n",
       "      <td>1,833,797,289</td>\n",
       "      <td>4</td>\n",
       "    </tr>\n",
       "    <tr>\n",
       "      <th>...</th>\n",
       "      <td>...</td>\n",
       "      <td>...</td>\n",
       "      <td>...</td>\n",
       "      <td>...</td>\n",
       "    </tr>\n",
       "    <tr>\n",
       "      <th>574</th>\n",
       "      <td>B</td>\n",
       "      <td>Medio</td>\n",
       "      <td>3,317,492,501</td>\n",
       "      <td>12</td>\n",
       "    </tr>\n",
       "    <tr>\n",
       "      <th>575</th>\n",
       "      <td>A</td>\n",
       "      <td>Baixo</td>\n",
       "      <td>1,520,280,108</td>\n",
       "      <td>3</td>\n",
       "    </tr>\n",
       "    <tr>\n",
       "      <th>576</th>\n",
       "      <td>A</td>\n",
       "      <td>Baixo</td>\n",
       "      <td>3,408,626,944</td>\n",
       "      <td>22</td>\n",
       "    </tr>\n",
       "    <tr>\n",
       "      <th>577</th>\n",
       "      <td>A</td>\n",
       "      <td>Baixo</td>\n",
       "      <td>2,016,019,969</td>\n",
       "      <td>5</td>\n",
       "    </tr>\n",
       "    <tr>\n",
       "      <th>578</th>\n",
       "      <td>B</td>\n",
       "      <td>Medio</td>\n",
       "      <td>4,885,459,874</td>\n",
       "      <td>6</td>\n",
       "    </tr>\n",
       "  </tbody>\n",
       "</table>\n",
       "<p>579 rows × 4 columns</p>\n",
       "</div>"
      ],
      "text/plain": [
       "    Fornecedor Degradacao     TempoFalha  nReincidenciaFalhas\n",
       "0            B       Alto  1,957,317,971                    2\n",
       "1            B       Alto    0.364676956                   13\n",
       "2            B      Medio  2,640,281,946                    1\n",
       "3            B       Alto  1,187,133,811                    0\n",
       "4            A      Baixo  1,833,797,289                    4\n",
       "..         ...        ...            ...                  ...\n",
       "574          B      Medio  3,317,492,501                   12\n",
       "575          A      Baixo  1,520,280,108                    3\n",
       "576          A      Baixo  3,408,626,944                   22\n",
       "577          A      Baixo  2,016,019,969                    5\n",
       "578          B      Medio  4,885,459,874                    6\n",
       "\n",
       "[579 rows x 4 columns]"
      ]
     },
     "metadata": {},
     "output_type": "display_data"
    }
   ],
   "source": [
    "dados = pd.read_csv(\"BD01.csv\")\n",
    "display(dados)"
   ]
  },
  {
   "cell_type": "markdown",
   "metadata": {},
   "source": [
    "## 0. Funções"
   ]
  },
  {
   "cell_type": "code",
   "execution_count": 3,
   "metadata": {},
   "outputs": [],
   "source": [
    "def AmostraAleatoriaSimples(dataframe, n):\n",
    "    amostra = dataframe.sample(n, replace = False)\n",
    "    return amostra"
   ]
  },
  {
   "cell_type": "code",
   "execution_count": 4,
   "metadata": {},
   "outputs": [],
   "source": [
    "def AmostraAleatoriaSistematica(dataframe,n):\n",
    "    N = len(dataframe)\n",
    "    ti = 0\n",
    "    tf = (N-1)\n",
    "    d = round((tf - ti + 1)/n)\n",
    "    i0 = np.random.default_rng().integers(low=ti, high=ti+d)\n",
    "    sampleIndexes = i0 + list(range(0, N, d))\n",
    "    sampleData = dataframe.loc[sampleIndexes, ]\n",
    "    print(\"*********** sampleData ***********\")\n",
    "    return (sampleData)"
   ]
  },
  {
   "cell_type": "code",
   "execution_count": 5,
   "metadata": {},
   "outputs": [],
   "source": [
    "def getProportionalStratifiedRandomSample(dataframe,n, varName,subSampleFunction =AmostraAleatoriaSimples):\n",
    "    # distribuição da variável de estrato na população\n",
    "    probDist = dataframe[varName].value_counts(normalize=True) # View(probDist)\n",
    "    print('*************** probDist ***************')\n",
    "    display(probDist)\n",
    "    # ns = round(n*probDist.values);  # View(ns)\n",
    "    stratums = probDist.index.to_list()\n",
    "    nStratums = len(stratums)\n",
    "    sampleData = pd.DataFrame()\n",
    "    for i in range(nStratums):\n",
    "        stratum_i = stratums[i]\n",
    "        # View(dataFrame_i, title = stratum_i)\n",
    "        dataFrame_i = dataframe[dataframe[varName] == stratum_i]\n",
    "        N_i = len(dataFrame_i)  # tamanho da iª população\n",
    "        n_i = round(n*probDist.values[i])  # tamanho da iª amostra\n",
    "        # View(sampleData_i, title = paste(\"amostra_\", stratum_i) )\n",
    "        sampleData_i = subSampleFunction(dataframe= dataFrame_i, n= n_i)\n",
    "        #sampleData_i = getSystematicRandomSample(dataFrame= dataFrame_i, sampleSize= n_i)\n",
    "        sampleData = pd.concat([sampleData, sampleData_i], axis = 0)\n",
    "    return (sampleData)"
   ]
  },
  {
   "cell_type": "code",
   "execution_count": 6,
   "metadata": {},
   "outputs": [],
   "source": [
    "def DescribeAmostra(dataframe,amostra):\n",
    "    n = len(amostra)\n",
    "    display(amostra)\n",
    "    print(\"--------------- Descrição dos dados ---------------\")\n",
    "    display(dataframe.describe().transpose())\n",
    "    print(\"--------------- Descrição da amostra ---------------\")\n",
    "    display(amostra.describe().transpose())"
   ]
  },
  {
   "cell_type": "code",
   "execution_count": 7,
   "metadata": {},
   "outputs": [],
   "source": [
    "def EstimativaPont(dataframe,amostra,n_vezes_amo,n_vezes_dado):\n",
    "    tam_Amos = len(amostra)\n",
    "    tam_dados = len(dataframe)\n",
    "    probabilidade_amostra = n_vezes_amo/tam_Amos\n",
    "    probabilidade_dados =  n_vezes_dado/tam_dados\n",
    "    print(\"------------Probabilidade na Amostra ------------\") \n",
    "    display(probabilidade_amostra)\n",
    "    print(\"------------Probabilidade na População Total ------------\")  \n",
    "    display(probabilidade_dados)  "
   ]
  },
  {
   "cell_type": "code",
   "execution_count": 8,
   "metadata": {},
   "outputs": [],
   "source": [
    "def Intervalo_Confianca(dados,amostra,intervalo_de_confiança, n_vezes_amo):\n",
    "    N = len(dados)\n",
    "    n = len(amostra)\n",
    "    prob_Amos = n_vezes_amo/n\n",
    "    #olhar conservador\n",
    "    sd = np.sqrt(prob_Amos*(1-prob_Amos))\n",
    "    fator_de_cor = np.sqrt((N-n)/(N-1))\n",
    "    sd_prob_Amos  = (sd/np.sqrt(n))*fator_de_cor\n",
    "    z = norm.ppf(1-(1- intervalo_de_confiança)/2) \n",
    "    lower = prob_Amos - z*sd_prob_Amos \n",
    "    upper = prob_Amos + z*sd_prob_Amos\n",
    "    lower = round(lower, 5) if lower >= 0 else 0\n",
    "    upper = round(upper, 5) if upper <=1 else 1\n",
    "    print(f\"[  {lower}  ,  {upper}  ]\")"
   ]
  },
  {
   "cell_type": "code",
   "execution_count": 9,
   "metadata": {},
   "outputs": [],
   "source": [
    "def Intervalo_Confianca_T(dados,amostra,intervalo_de_confiança,n_vezes_amo):\n",
    "    N = len(dados)\n",
    "    n = len(amostra)\n",
    "    prob_Amos = n_vezes_amo/n\n",
    "    sd = np.sqrt(prob_Amos*(1-prob_Amos))\n",
    "    sd_prob_Amos  = (sd/np.sqrt(N))\n",
    "    v_1_alpha_2 = 1-(1-intervalo_de_confiança)/2; \n",
    "    tk = round(t.ppf(v_1_alpha_2, df=(n-1)), 3)\n",
    "    correctionFactor = ((N-n)/(N-1))\n",
    "    sd_prob_Amos = np.sqrt(((sd*sd)/(n))*correctionFactor)\n",
    "    lower = prob_Amos - tk*sd_prob_Amos \n",
    "    upper = prob_Amos + tk*sd_prob_Amos\n",
    "    lower = round(lower, 5) if lower >= 0 else 0\n",
    "    upper = round(upper, 5) if upper <=1 else 1\n",
    "    print(f\"[  {lower}  ,  {upper}  ]\")"
   ]
  },
  {
   "cell_type": "markdown",
   "metadata": {},
   "source": [
    "## FUNCOES MED"
   ]
  },
  {
   "cell_type": "code",
   "execution_count": 10,
   "metadata": {},
   "outputs": [],
   "source": [
    "def Intervalo_Confianca_Media(dados,amostra,varName, intervalo_de_confiança):\n",
    "    N = len(dados)\n",
    "    n = len(amostra)\n",
    "    med_amostra = np.mean(amostra[varName])\n",
    "    sd = np.std(dados[varName])\n",
    "    fator_de_cor = np.sqrt((N-n)/(N-1)) if N is not None else 1\n",
    "    sd_prob_Amos  = (sd/np.sqrt(n))*fator_de_cor\n",
    "    # t estudant se desvio padrao da amostra\n",
    "    z = norm.ppf(1-(1- intervalo_de_confiança)/2) \n",
    "    lower = med_amostra - z*sd_prob_Amos \n",
    "    upper = med_amostra + z*sd_prob_Amos \n",
    "    lower = round(lower, 5)\n",
    "    upper = round(upper, 5)\n",
    "    print(f\"[  {lower}  ,  {upper}  ]\")\n",
    "    \n",
    "#CHECADO"
   ]
  },
  {
   "cell_type": "code",
   "execution_count": 11,
   "metadata": {},
   "outputs": [],
   "source": [
    "def Intervalo_Confianca_Media_T (dados,amostra,intervalo_de_confianca):\n",
    "    N = len(dados)\n",
    "    n = len(amostra)\n",
    "    med_amostra = np.mean(amostra['nReincidenciaFalhas'])\n",
    "    sd = np.std(amostra['nReincidenciaFalhas'])\n",
    "    v_1_alpha_2 = 1-(1-intervalo_de_confianca)/2; \n",
    "    tk = round(t.ppf(v_1_alpha_2, df=(n-1)), 3)\n",
    "    correctionFactor = ((N-n)/(N-1))\n",
    "    sd_prob_Amos = np.sqrt(((sd*sd)/(n))*correctionFactor)\n",
    "    lower = med_amostra- tk*sd_prob_Amos \n",
    "    upper = med_amostra + tk*sd_prob_Amos \n",
    "    lower = round(lower, 5) \n",
    "    upper = round(upper, 5)\n",
    "    print(f\"[  {lower}  ,  {upper}  ]\")\n",
    "#CHECADO    "
   ]
  },
  {
   "cell_type": "code",
   "execution_count": 12,
   "metadata": {},
   "outputs": [],
   "source": [
    "def EstimativaPontMed(dataframe, amostra, varName):\n",
    "    med_Amos = np.mean(amostra[varName])\n",
    "    med_Dados = np.mean(dataframe[varName])\n",
    "    print(\"------------Média na Amostra ------------\") \n",
    "    display(med_Amos)\n",
    "    print(\"-----------Média na População Total ------------\")  \n",
    "    display(med_Dados)  \n",
    "    \n",
    "#CHECADO    "
   ]
  },
  {
   "cell_type": "markdown",
   "metadata": {},
   "source": [
    "## 1. Amostra aleatória simples"
   ]
  },
  {
   "cell_type": "markdown",
   "metadata": {},
   "source": [
    "* Analisando a nossa  amostra aleatoóia simples vemos que ela não representa tão bem nossa população inteira.  \n",
    "Na amostra temos valores de média em 26.1 enquanto na populção temos o valor de média de 18.79 uma diferença de mais de 7 pontos o que representa uma diferença alta.  \n",
    "Outra grande diferença observada é no desvio padrão, na amostra o desvio padrão foi menor do que na população total."
   ]
  },
  {
   "cell_type": "code",
   "execution_count": 13,
   "metadata": {},
   "outputs": [
    {
     "data": {
      "text/html": [
       "<div>\n",
       "<style scoped>\n",
       "    .dataframe tbody tr th:only-of-type {\n",
       "        vertical-align: middle;\n",
       "    }\n",
       "\n",
       "    .dataframe tbody tr th {\n",
       "        vertical-align: top;\n",
       "    }\n",
       "\n",
       "    .dataframe thead th {\n",
       "        text-align: right;\n",
       "    }\n",
       "</style>\n",
       "<table border=\"1\" class=\"dataframe\">\n",
       "  <thead>\n",
       "    <tr style=\"text-align: right;\">\n",
       "      <th></th>\n",
       "      <th>Fornecedor</th>\n",
       "      <th>Degradacao</th>\n",
       "      <th>TempoFalha</th>\n",
       "      <th>nReincidenciaFalhas</th>\n",
       "    </tr>\n",
       "  </thead>\n",
       "  <tbody>\n",
       "    <tr>\n",
       "      <th>461</th>\n",
       "      <td>A</td>\n",
       "      <td>Baixo</td>\n",
       "      <td>145,020,921</td>\n",
       "      <td>37</td>\n",
       "    </tr>\n",
       "    <tr>\n",
       "      <th>361</th>\n",
       "      <td>B</td>\n",
       "      <td>Medio</td>\n",
       "      <td>3,978,507,524</td>\n",
       "      <td>39</td>\n",
       "    </tr>\n",
       "    <tr>\n",
       "      <th>406</th>\n",
       "      <td>A</td>\n",
       "      <td>Baixo</td>\n",
       "      <td>7,801,743,213</td>\n",
       "      <td>3</td>\n",
       "    </tr>\n",
       "    <tr>\n",
       "      <th>429</th>\n",
       "      <td>A</td>\n",
       "      <td>Baixo</td>\n",
       "      <td>2,440,084,055</td>\n",
       "      <td>30</td>\n",
       "    </tr>\n",
       "    <tr>\n",
       "      <th>134</th>\n",
       "      <td>B</td>\n",
       "      <td>Medio</td>\n",
       "      <td>4,757,678,813</td>\n",
       "      <td>47</td>\n",
       "    </tr>\n",
       "    <tr>\n",
       "      <th>575</th>\n",
       "      <td>A</td>\n",
       "      <td>Baixo</td>\n",
       "      <td>1,520,280,108</td>\n",
       "      <td>3</td>\n",
       "    </tr>\n",
       "    <tr>\n",
       "      <th>390</th>\n",
       "      <td>B</td>\n",
       "      <td>Alto</td>\n",
       "      <td>0.123488333</td>\n",
       "      <td>21</td>\n",
       "    </tr>\n",
       "    <tr>\n",
       "      <th>425</th>\n",
       "      <td>A</td>\n",
       "      <td>Baixo</td>\n",
       "      <td>2,015,703,222</td>\n",
       "      <td>0</td>\n",
       "    </tr>\n",
       "    <tr>\n",
       "      <th>239</th>\n",
       "      <td>A</td>\n",
       "      <td>Baixo</td>\n",
       "      <td>418,140,378</td>\n",
       "      <td>53</td>\n",
       "    </tr>\n",
       "    <tr>\n",
       "      <th>431</th>\n",
       "      <td>A</td>\n",
       "      <td>Baixo</td>\n",
       "      <td>1,412,206,249</td>\n",
       "      <td>28</td>\n",
       "    </tr>\n",
       "  </tbody>\n",
       "</table>\n",
       "</div>"
      ],
      "text/plain": [
       "    Fornecedor Degradacao     TempoFalha  nReincidenciaFalhas\n",
       "461          A      Baixo    145,020,921                   37\n",
       "361          B      Medio  3,978,507,524                   39\n",
       "406          A      Baixo  7,801,743,213                    3\n",
       "429          A      Baixo  2,440,084,055                   30\n",
       "134          B      Medio  4,757,678,813                   47\n",
       "575          A      Baixo  1,520,280,108                    3\n",
       "390          B       Alto    0.123488333                   21\n",
       "425          A      Baixo  2,015,703,222                    0\n",
       "239          A      Baixo    418,140,378                   53\n",
       "431          A      Baixo  1,412,206,249                   28"
      ]
     },
     "metadata": {},
     "output_type": "display_data"
    },
    {
     "name": "stdout",
     "output_type": "stream",
     "text": [
      "--------------- Descrição dos dados ---------------\n"
     ]
    },
    {
     "data": {
      "text/html": [
       "<div>\n",
       "<style scoped>\n",
       "    .dataframe tbody tr th:only-of-type {\n",
       "        vertical-align: middle;\n",
       "    }\n",
       "\n",
       "    .dataframe tbody tr th {\n",
       "        vertical-align: top;\n",
       "    }\n",
       "\n",
       "    .dataframe thead th {\n",
       "        text-align: right;\n",
       "    }\n",
       "</style>\n",
       "<table border=\"1\" class=\"dataframe\">\n",
       "  <thead>\n",
       "    <tr style=\"text-align: right;\">\n",
       "      <th></th>\n",
       "      <th>count</th>\n",
       "      <th>mean</th>\n",
       "      <th>std</th>\n",
       "      <th>min</th>\n",
       "      <th>25%</th>\n",
       "      <th>50%</th>\n",
       "      <th>75%</th>\n",
       "      <th>max</th>\n",
       "    </tr>\n",
       "  </thead>\n",
       "  <tbody>\n",
       "    <tr>\n",
       "      <th>nReincidenciaFalhas</th>\n",
       "      <td>579.0</td>\n",
       "      <td>18.792746</td>\n",
       "      <td>19.226708</td>\n",
       "      <td>0.0</td>\n",
       "      <td>3.0</td>\n",
       "      <td>14.0</td>\n",
       "      <td>28.0</td>\n",
       "      <td>125.0</td>\n",
       "    </tr>\n",
       "  </tbody>\n",
       "</table>\n",
       "</div>"
      ],
      "text/plain": [
       "                     count       mean        std  min  25%   50%   75%    max\n",
       "nReincidenciaFalhas  579.0  18.792746  19.226708  0.0  3.0  14.0  28.0  125.0"
      ]
     },
     "metadata": {},
     "output_type": "display_data"
    },
    {
     "name": "stdout",
     "output_type": "stream",
     "text": [
      "--------------- Descrição da amostra ---------------\n"
     ]
    },
    {
     "data": {
      "text/html": [
       "<div>\n",
       "<style scoped>\n",
       "    .dataframe tbody tr th:only-of-type {\n",
       "        vertical-align: middle;\n",
       "    }\n",
       "\n",
       "    .dataframe tbody tr th {\n",
       "        vertical-align: top;\n",
       "    }\n",
       "\n",
       "    .dataframe thead th {\n",
       "        text-align: right;\n",
       "    }\n",
       "</style>\n",
       "<table border=\"1\" class=\"dataframe\">\n",
       "  <thead>\n",
       "    <tr style=\"text-align: right;\">\n",
       "      <th></th>\n",
       "      <th>count</th>\n",
       "      <th>mean</th>\n",
       "      <th>std</th>\n",
       "      <th>min</th>\n",
       "      <th>25%</th>\n",
       "      <th>50%</th>\n",
       "      <th>75%</th>\n",
       "      <th>max</th>\n",
       "    </tr>\n",
       "  </thead>\n",
       "  <tbody>\n",
       "    <tr>\n",
       "      <th>nReincidenciaFalhas</th>\n",
       "      <td>10.0</td>\n",
       "      <td>26.1</td>\n",
       "      <td>18.970445</td>\n",
       "      <td>0.0</td>\n",
       "      <td>7.5</td>\n",
       "      <td>29.0</td>\n",
       "      <td>38.5</td>\n",
       "      <td>53.0</td>\n",
       "    </tr>\n",
       "  </tbody>\n",
       "</table>\n",
       "</div>"
      ],
      "text/plain": [
       "                     count  mean        std  min  25%   50%   75%   max\n",
       "nReincidenciaFalhas   10.0  26.1  18.970445  0.0  7.5  29.0  38.5  53.0"
      ]
     },
     "metadata": {},
     "output_type": "display_data"
    }
   ],
   "source": [
    "amostra = AmostraAleatoriaSimples(dados, 10)\n",
    "DescribeAmostra(dados,amostra)"
   ]
  },
  {
   "cell_type": "markdown",
   "metadata": {},
   "source": [
    "* Ao calcularmos a probabilidade do fornecedor ser do tipo A tanto na amostra quanto na população geral também observamos diferenças.  \n",
    "A probabilidade na amostra é de 70%, uma probabilidade alta de ocorrer enquanto na população total é de 60.97% uma probabilidade menor que na amostra, quase 10% de diferença."
   ]
  },
  {
   "cell_type": "code",
   "execution_count": 14,
   "metadata": {},
   "outputs": [
    {
     "name": "stdout",
     "output_type": "stream",
     "text": [
      "------------Probabilidade na Amostra ------------\n"
     ]
    },
    {
     "data": {
      "text/plain": [
       "0.7"
      ]
     },
     "metadata": {},
     "output_type": "display_data"
    },
    {
     "name": "stdout",
     "output_type": "stream",
     "text": [
      "------------Probabilidade na População Total ------------\n"
     ]
    },
    {
     "data": {
      "text/plain": [
       "0.6096718480138169"
      ]
     },
     "metadata": {},
     "output_type": "display_data"
    }
   ],
   "source": [
    "n_vezes_amo_A,n_vezes_amo_B = amostra['Fornecedor'].value_counts()\n",
    "n_vezes_dados_A,n_vezes_dados_B = dados['Fornecedor'].value_counts()\n",
    "EstimativaPont(dados,amostra,n_vezes_amo_A,n_vezes_dados_A)"
   ]
  },
  {
   "cell_type": "markdown",
   "metadata": {},
   "source": [
    "* Ao calcularmos o intervalo de confiança vemos intervalos altamente espaçados, o intervalo na amostra é menor e nossa probabilidade se encaixa nesse intervalo, porém no intervalo da população vemos um intervalo muito grande que também contempla nossa probabilidade mas com um espaçamento muito grande."
   ]
  },
  {
   "cell_type": "code",
   "execution_count": 15,
   "metadata": {},
   "outputs": [
    {
     "name": "stdout",
     "output_type": "stream",
     "text": [
      "\n",
      "\n",
      "------------------ Intervalo na Amostra-----------------\n",
      "[  0.41819  ,  0.98181  ]\n",
      "\n",
      "\n",
      "------------------ Intervalo na População Total-----------------\n",
      "[  0.37477  ,  1  ]\n"
     ]
    }
   ],
   "source": [
    "print(\"\\n\")\n",
    "print(\"------------------ Intervalo na Amostra-----------------\")\n",
    "Intervalo_Confianca(dados,amostra,0.95,n_vezes_amo_A)\n",
    "print(\"\\n\")\n",
    "print(\"------------------ Intervalo na População Total-----------------\")\n",
    "Intervalo_Confianca_T(dados,amostra,0.95,n_vezes_amo_A)\n"
   ]
  },
  {
   "cell_type": "markdown",
   "metadata": {},
   "source": [
    "## 2. Amostra aleatória Sistematica"
   ]
  },
  {
   "cell_type": "markdown",
   "metadata": {},
   "source": [
    "* Já na amostra aleatória Sistematica vemos uma diferença menor na descrição da amostra em relação aos dados populacionais, a média na amostra é de 16 e o desvio padrão é de 23.37, já na população total obsefvamos uma média maior em torno de 18.79 e um desvio padrão menor em torno de 19.23."
   ]
  },
  {
   "cell_type": "code",
   "execution_count": 16,
   "metadata": {},
   "outputs": [
    {
     "name": "stdout",
     "output_type": "stream",
     "text": [
      "*********** sampleData ***********\n"
     ]
    },
    {
     "data": {
      "text/html": [
       "<div>\n",
       "<style scoped>\n",
       "    .dataframe tbody tr th:only-of-type {\n",
       "        vertical-align: middle;\n",
       "    }\n",
       "\n",
       "    .dataframe tbody tr th {\n",
       "        vertical-align: top;\n",
       "    }\n",
       "\n",
       "    .dataframe thead th {\n",
       "        text-align: right;\n",
       "    }\n",
       "</style>\n",
       "<table border=\"1\" class=\"dataframe\">\n",
       "  <thead>\n",
       "    <tr style=\"text-align: right;\">\n",
       "      <th></th>\n",
       "      <th>Fornecedor</th>\n",
       "      <th>Degradacao</th>\n",
       "      <th>TempoFalha</th>\n",
       "      <th>nReincidenciaFalhas</th>\n",
       "    </tr>\n",
       "  </thead>\n",
       "  <tbody>\n",
       "    <tr>\n",
       "      <th>2</th>\n",
       "      <td>B</td>\n",
       "      <td>Medio</td>\n",
       "      <td>2,640,281,946</td>\n",
       "      <td>1</td>\n",
       "    </tr>\n",
       "    <tr>\n",
       "      <th>60</th>\n",
       "      <td>A</td>\n",
       "      <td>Baixo</td>\n",
       "      <td>6,443,583,406</td>\n",
       "      <td>1</td>\n",
       "    </tr>\n",
       "    <tr>\n",
       "      <th>118</th>\n",
       "      <td>B</td>\n",
       "      <td>Medio</td>\n",
       "      <td>3,918,342,738</td>\n",
       "      <td>4</td>\n",
       "    </tr>\n",
       "    <tr>\n",
       "      <th>176</th>\n",
       "      <td>A</td>\n",
       "      <td>Baixo</td>\n",
       "      <td>5,391,756,364</td>\n",
       "      <td>47</td>\n",
       "    </tr>\n",
       "    <tr>\n",
       "      <th>234</th>\n",
       "      <td>A</td>\n",
       "      <td>Baixo</td>\n",
       "      <td>7,560,281,259</td>\n",
       "      <td>66</td>\n",
       "    </tr>\n",
       "    <tr>\n",
       "      <th>292</th>\n",
       "      <td>A</td>\n",
       "      <td>Baixo</td>\n",
       "      <td>8,061,834,509</td>\n",
       "      <td>5</td>\n",
       "    </tr>\n",
       "    <tr>\n",
       "      <th>350</th>\n",
       "      <td>A</td>\n",
       "      <td>Baixo</td>\n",
       "      <td>3,206,266,297</td>\n",
       "      <td>29</td>\n",
       "    </tr>\n",
       "    <tr>\n",
       "      <th>408</th>\n",
       "      <td>B</td>\n",
       "      <td>Medio</td>\n",
       "      <td>4,706,314,575</td>\n",
       "      <td>0</td>\n",
       "    </tr>\n",
       "    <tr>\n",
       "      <th>466</th>\n",
       "      <td>A</td>\n",
       "      <td>Baixo</td>\n",
       "      <td>2,122,048,953</td>\n",
       "      <td>4</td>\n",
       "    </tr>\n",
       "    <tr>\n",
       "      <th>524</th>\n",
       "      <td>B</td>\n",
       "      <td>Alto</td>\n",
       "      <td>0.408561652</td>\n",
       "      <td>3</td>\n",
       "    </tr>\n",
       "  </tbody>\n",
       "</table>\n",
       "</div>"
      ],
      "text/plain": [
       "    Fornecedor Degradacao     TempoFalha  nReincidenciaFalhas\n",
       "2            B      Medio  2,640,281,946                    1\n",
       "60           A      Baixo  6,443,583,406                    1\n",
       "118          B      Medio  3,918,342,738                    4\n",
       "176          A      Baixo  5,391,756,364                   47\n",
       "234          A      Baixo  7,560,281,259                   66\n",
       "292          A      Baixo  8,061,834,509                    5\n",
       "350          A      Baixo  3,206,266,297                   29\n",
       "408          B      Medio  4,706,314,575                    0\n",
       "466          A      Baixo  2,122,048,953                    4\n",
       "524          B       Alto    0.408561652                    3"
      ]
     },
     "metadata": {},
     "output_type": "display_data"
    },
    {
     "name": "stdout",
     "output_type": "stream",
     "text": [
      "--------------- Descrição dos dados ---------------\n"
     ]
    },
    {
     "data": {
      "text/html": [
       "<div>\n",
       "<style scoped>\n",
       "    .dataframe tbody tr th:only-of-type {\n",
       "        vertical-align: middle;\n",
       "    }\n",
       "\n",
       "    .dataframe tbody tr th {\n",
       "        vertical-align: top;\n",
       "    }\n",
       "\n",
       "    .dataframe thead th {\n",
       "        text-align: right;\n",
       "    }\n",
       "</style>\n",
       "<table border=\"1\" class=\"dataframe\">\n",
       "  <thead>\n",
       "    <tr style=\"text-align: right;\">\n",
       "      <th></th>\n",
       "      <th>count</th>\n",
       "      <th>mean</th>\n",
       "      <th>std</th>\n",
       "      <th>min</th>\n",
       "      <th>25%</th>\n",
       "      <th>50%</th>\n",
       "      <th>75%</th>\n",
       "      <th>max</th>\n",
       "    </tr>\n",
       "  </thead>\n",
       "  <tbody>\n",
       "    <tr>\n",
       "      <th>nReincidenciaFalhas</th>\n",
       "      <td>579.0</td>\n",
       "      <td>18.792746</td>\n",
       "      <td>19.226708</td>\n",
       "      <td>0.0</td>\n",
       "      <td>3.0</td>\n",
       "      <td>14.0</td>\n",
       "      <td>28.0</td>\n",
       "      <td>125.0</td>\n",
       "    </tr>\n",
       "  </tbody>\n",
       "</table>\n",
       "</div>"
      ],
      "text/plain": [
       "                     count       mean        std  min  25%   50%   75%    max\n",
       "nReincidenciaFalhas  579.0  18.792746  19.226708  0.0  3.0  14.0  28.0  125.0"
      ]
     },
     "metadata": {},
     "output_type": "display_data"
    },
    {
     "name": "stdout",
     "output_type": "stream",
     "text": [
      "--------------- Descrição da amostra ---------------\n"
     ]
    },
    {
     "data": {
      "text/html": [
       "<div>\n",
       "<style scoped>\n",
       "    .dataframe tbody tr th:only-of-type {\n",
       "        vertical-align: middle;\n",
       "    }\n",
       "\n",
       "    .dataframe tbody tr th {\n",
       "        vertical-align: top;\n",
       "    }\n",
       "\n",
       "    .dataframe thead th {\n",
       "        text-align: right;\n",
       "    }\n",
       "</style>\n",
       "<table border=\"1\" class=\"dataframe\">\n",
       "  <thead>\n",
       "    <tr style=\"text-align: right;\">\n",
       "      <th></th>\n",
       "      <th>count</th>\n",
       "      <th>mean</th>\n",
       "      <th>std</th>\n",
       "      <th>min</th>\n",
       "      <th>25%</th>\n",
       "      <th>50%</th>\n",
       "      <th>75%</th>\n",
       "      <th>max</th>\n",
       "    </tr>\n",
       "  </thead>\n",
       "  <tbody>\n",
       "    <tr>\n",
       "      <th>nReincidenciaFalhas</th>\n",
       "      <td>10.0</td>\n",
       "      <td>16.0</td>\n",
       "      <td>23.366643</td>\n",
       "      <td>0.0</td>\n",
       "      <td>1.5</td>\n",
       "      <td>4.0</td>\n",
       "      <td>23.0</td>\n",
       "      <td>66.0</td>\n",
       "    </tr>\n",
       "  </tbody>\n",
       "</table>\n",
       "</div>"
      ],
      "text/plain": [
       "                     count  mean        std  min  25%  50%   75%   max\n",
       "nReincidenciaFalhas   10.0  16.0  23.366643  0.0  1.5  4.0  23.0  66.0"
      ]
     },
     "metadata": {},
     "output_type": "display_data"
    }
   ],
   "source": [
    "amostra2 = AmostraAleatoriaSistematica(dados,10)\n",
    "DescribeAmostra(dados,amostra2)\n"
   ]
  },
  {
   "cell_type": "markdown",
   "metadata": {},
   "source": [
    "* Ao verificarmos a probabilidade de o nivel de degradação ser alto vemos que elas não estão extremamente distantes, a probabilidade na amostra é de 10% enquanto na população total é de 19.52% aproximadamente 10% maior que na amostra.  \n"
   ]
  },
  {
   "cell_type": "code",
   "execution_count": 17,
   "metadata": {},
   "outputs": [
    {
     "name": "stdout",
     "output_type": "stream",
     "text": [
      "------------Probabilidade na Amostra ------------\n"
     ]
    },
    {
     "data": {
      "text/plain": [
       "0.1"
      ]
     },
     "metadata": {},
     "output_type": "display_data"
    },
    {
     "name": "stdout",
     "output_type": "stream",
     "text": [
      "------------Probabilidade na População Total ------------\n"
     ]
    },
    {
     "data": {
      "text/plain": [
       "0.19516407599309155"
      ]
     },
     "metadata": {},
     "output_type": "display_data"
    }
   ],
   "source": [
    "\n",
    "n_amostra_baixo,n_amostra_medio,n_amostra_alto = amostra2['Degradacao'].value_counts()\n",
    "n_dados_baixo,n_dados_medio,n_dados_alto = dados['Degradacao'].value_counts()\n",
    "EstimativaPont(dados,amostra2,n_amostra_alto,n_dados_alto)\n",
    "\n"
   ]
  },
  {
   "cell_type": "markdown",
   "metadata": {},
   "source": [
    "* Ao verificarmos o intervalo de confiança vemos que eles estão bem parecidos.  \n",
    "Os intervalos tem somente 0,03 de difernça na parte superior e ambos contemplam suas probabilidades."
   ]
  },
  {
   "cell_type": "code",
   "execution_count": 18,
   "metadata": {},
   "outputs": [
    {
     "name": "stdout",
     "output_type": "stream",
     "text": [
      "\n",
      "\n",
      "------------------ Intervalo na Amostra-----------------\n",
      "[  0  ,  0.28449  ]\n",
      "\n",
      "\n",
      "------------------ Intervalo na População Total-----------------\n",
      "[  0  ,  0.31291  ]\n"
     ]
    }
   ],
   "source": [
    "print(\"\\n\")\n",
    "print(\"------------------ Intervalo na Amostra-----------------\")\n",
    "Intervalo_Confianca(dados,amostra2,0.95, n_amostra_alto)\n",
    "print(\"\\n\")\n",
    "print(\"------------------ Intervalo na População Total-----------------\")\n",
    "Intervalo_Confianca_T(dados,amostra2,0.95,n_amostra_alto)"
   ]
  },
  {
   "cell_type": "markdown",
   "metadata": {},
   "source": [
    "## 3. Amostra Simples Estrtificada"
   ]
  },
  {
   "cell_type": "markdown",
   "metadata": {},
   "source": [
    "* Na amostra Simples Estrtificada observamos valores bem diferentes e distantes da população geral.\n",
    "Os valores de média e desvio padrão na amostra são bem menores.  \n",
    "Na amostra temos um valor de 14.5 de média enquanto na população temos 18.79 de média uma diferença de mais de 4 pontos.\n",
    "Tambem temos na amostra temos um valor de 12.53 de desvio padrão enquanto na população temos 19.23 de desvio padrão uma diferença de aproximadamente 7 pontos."
   ]
  },
  {
   "cell_type": "code",
   "execution_count": 19,
   "metadata": {},
   "outputs": [
    {
     "name": "stdout",
     "output_type": "stream",
     "text": [
      "*************** probDist ***************\n"
     ]
    },
    {
     "data": {
      "text/plain": [
       "Fornecedor\n",
       "A    0.609672\n",
       "B    0.390328\n",
       "Name: proportion, dtype: float64"
      ]
     },
     "metadata": {},
     "output_type": "display_data"
    },
    {
     "data": {
      "text/html": [
       "<div>\n",
       "<style scoped>\n",
       "    .dataframe tbody tr th:only-of-type {\n",
       "        vertical-align: middle;\n",
       "    }\n",
       "\n",
       "    .dataframe tbody tr th {\n",
       "        vertical-align: top;\n",
       "    }\n",
       "\n",
       "    .dataframe thead th {\n",
       "        text-align: right;\n",
       "    }\n",
       "</style>\n",
       "<table border=\"1\" class=\"dataframe\">\n",
       "  <thead>\n",
       "    <tr style=\"text-align: right;\">\n",
       "      <th></th>\n",
       "      <th>Fornecedor</th>\n",
       "      <th>Degradacao</th>\n",
       "      <th>TempoFalha</th>\n",
       "      <th>nReincidenciaFalhas</th>\n",
       "    </tr>\n",
       "  </thead>\n",
       "  <tbody>\n",
       "    <tr>\n",
       "      <th>507</th>\n",
       "      <td>A</td>\n",
       "      <td>Baixo</td>\n",
       "      <td>118,429,296</td>\n",
       "      <td>1</td>\n",
       "    </tr>\n",
       "    <tr>\n",
       "      <th>265</th>\n",
       "      <td>A</td>\n",
       "      <td>Baixo</td>\n",
       "      <td>1,399,006,623</td>\n",
       "      <td>3</td>\n",
       "    </tr>\n",
       "    <tr>\n",
       "      <th>245</th>\n",
       "      <td>A</td>\n",
       "      <td>Baixo</td>\n",
       "      <td>314,363,297</td>\n",
       "      <td>22</td>\n",
       "    </tr>\n",
       "    <tr>\n",
       "      <th>426</th>\n",
       "      <td>A</td>\n",
       "      <td>Baixo</td>\n",
       "      <td>561,931,698</td>\n",
       "      <td>0</td>\n",
       "    </tr>\n",
       "    <tr>\n",
       "      <th>401</th>\n",
       "      <td>A</td>\n",
       "      <td>Baixo</td>\n",
       "      <td>1,065,649,149</td>\n",
       "      <td>39</td>\n",
       "    </tr>\n",
       "    <tr>\n",
       "      <th>133</th>\n",
       "      <td>A</td>\n",
       "      <td>Baixo</td>\n",
       "      <td>1,022,324,181</td>\n",
       "      <td>17</td>\n",
       "    </tr>\n",
       "    <tr>\n",
       "      <th>306</th>\n",
       "      <td>B</td>\n",
       "      <td>Alto</td>\n",
       "      <td>0.522407689</td>\n",
       "      <td>13</td>\n",
       "    </tr>\n",
       "    <tr>\n",
       "      <th>257</th>\n",
       "      <td>B</td>\n",
       "      <td>Alto</td>\n",
       "      <td>0.692945334</td>\n",
       "      <td>5</td>\n",
       "    </tr>\n",
       "    <tr>\n",
       "      <th>30</th>\n",
       "      <td>B</td>\n",
       "      <td>Alto</td>\n",
       "      <td>0.548219478</td>\n",
       "      <td>21</td>\n",
       "    </tr>\n",
       "    <tr>\n",
       "      <th>381</th>\n",
       "      <td>B</td>\n",
       "      <td>Medio</td>\n",
       "      <td>2,457,423,411</td>\n",
       "      <td>24</td>\n",
       "    </tr>\n",
       "  </tbody>\n",
       "</table>\n",
       "</div>"
      ],
      "text/plain": [
       "    Fornecedor Degradacao     TempoFalha  nReincidenciaFalhas\n",
       "507          A      Baixo    118,429,296                    1\n",
       "265          A      Baixo  1,399,006,623                    3\n",
       "245          A      Baixo    314,363,297                   22\n",
       "426          A      Baixo    561,931,698                    0\n",
       "401          A      Baixo  1,065,649,149                   39\n",
       "133          A      Baixo  1,022,324,181                   17\n",
       "306          B       Alto    0.522407689                   13\n",
       "257          B       Alto    0.692945334                    5\n",
       "30           B       Alto    0.548219478                   21\n",
       "381          B      Medio  2,457,423,411                   24"
      ]
     },
     "metadata": {},
     "output_type": "display_data"
    },
    {
     "name": "stdout",
     "output_type": "stream",
     "text": [
      "--------------- Descrição dos dados ---------------\n"
     ]
    },
    {
     "data": {
      "text/html": [
       "<div>\n",
       "<style scoped>\n",
       "    .dataframe tbody tr th:only-of-type {\n",
       "        vertical-align: middle;\n",
       "    }\n",
       "\n",
       "    .dataframe tbody tr th {\n",
       "        vertical-align: top;\n",
       "    }\n",
       "\n",
       "    .dataframe thead th {\n",
       "        text-align: right;\n",
       "    }\n",
       "</style>\n",
       "<table border=\"1\" class=\"dataframe\">\n",
       "  <thead>\n",
       "    <tr style=\"text-align: right;\">\n",
       "      <th></th>\n",
       "      <th>count</th>\n",
       "      <th>mean</th>\n",
       "      <th>std</th>\n",
       "      <th>min</th>\n",
       "      <th>25%</th>\n",
       "      <th>50%</th>\n",
       "      <th>75%</th>\n",
       "      <th>max</th>\n",
       "    </tr>\n",
       "  </thead>\n",
       "  <tbody>\n",
       "    <tr>\n",
       "      <th>nReincidenciaFalhas</th>\n",
       "      <td>579.0</td>\n",
       "      <td>18.792746</td>\n",
       "      <td>19.226708</td>\n",
       "      <td>0.0</td>\n",
       "      <td>3.0</td>\n",
       "      <td>14.0</td>\n",
       "      <td>28.0</td>\n",
       "      <td>125.0</td>\n",
       "    </tr>\n",
       "  </tbody>\n",
       "</table>\n",
       "</div>"
      ],
      "text/plain": [
       "                     count       mean        std  min  25%   50%   75%    max\n",
       "nReincidenciaFalhas  579.0  18.792746  19.226708  0.0  3.0  14.0  28.0  125.0"
      ]
     },
     "metadata": {},
     "output_type": "display_data"
    },
    {
     "name": "stdout",
     "output_type": "stream",
     "text": [
      "--------------- Descrição da amostra ---------------\n"
     ]
    },
    {
     "data": {
      "text/html": [
       "<div>\n",
       "<style scoped>\n",
       "    .dataframe tbody tr th:only-of-type {\n",
       "        vertical-align: middle;\n",
       "    }\n",
       "\n",
       "    .dataframe tbody tr th {\n",
       "        vertical-align: top;\n",
       "    }\n",
       "\n",
       "    .dataframe thead th {\n",
       "        text-align: right;\n",
       "    }\n",
       "</style>\n",
       "<table border=\"1\" class=\"dataframe\">\n",
       "  <thead>\n",
       "    <tr style=\"text-align: right;\">\n",
       "      <th></th>\n",
       "      <th>count</th>\n",
       "      <th>mean</th>\n",
       "      <th>std</th>\n",
       "      <th>min</th>\n",
       "      <th>25%</th>\n",
       "      <th>50%</th>\n",
       "      <th>75%</th>\n",
       "      <th>max</th>\n",
       "    </tr>\n",
       "  </thead>\n",
       "  <tbody>\n",
       "    <tr>\n",
       "      <th>nReincidenciaFalhas</th>\n",
       "      <td>10.0</td>\n",
       "      <td>14.5</td>\n",
       "      <td>12.527747</td>\n",
       "      <td>0.0</td>\n",
       "      <td>3.5</td>\n",
       "      <td>15.0</td>\n",
       "      <td>21.75</td>\n",
       "      <td>39.0</td>\n",
       "    </tr>\n",
       "  </tbody>\n",
       "</table>\n",
       "</div>"
      ],
      "text/plain": [
       "                     count  mean        std  min  25%   50%    75%   max\n",
       "nReincidenciaFalhas   10.0  14.5  12.527747  0.0  3.5  15.0  21.75  39.0"
      ]
     },
     "metadata": {},
     "output_type": "display_data"
    }
   ],
   "source": [
    "amostra3 =getProportionalStratifiedRandomSample(dataframe=dados, n=10, varName='Fornecedor',subSampleFunction = AmostraAleatoriaSimples)\n",
    "DescribeAmostra(dados,amostra3)"
   ]
  },
  {
   "cell_type": "markdown",
   "metadata": {},
   "source": [
    "* Ao anarlisarmos o número médio de reincidência de falhas vemos uma grande diferença nesses valores.  \n",
    "a média na Amostra é de 14.5 enqunto a média na População Total é de 18.79 o qu representa uma diferença de aproximadamente 4 pontos."
   ]
  },
  {
   "cell_type": "code",
   "execution_count": 20,
   "metadata": {},
   "outputs": [
    {
     "name": "stdout",
     "output_type": "stream",
     "text": [
      "------------Média na Amostra ------------\n"
     ]
    },
    {
     "data": {
      "text/plain": [
       "14.5"
      ]
     },
     "metadata": {},
     "output_type": "display_data"
    },
    {
     "name": "stdout",
     "output_type": "stream",
     "text": [
      "-----------Média na População Total ------------\n"
     ]
    },
    {
     "data": {
      "text/plain": [
       "18.792746113989637"
      ]
     },
     "metadata": {},
     "output_type": "display_data"
    }
   ],
   "source": [
    "EstimativaPontMed(dados, amostra3,\"nReincidenciaFalhas\")"
   ]
  },
  {
   "cell_type": "markdown",
   "metadata": {},
   "source": [
    "* Já ao verificarmos o intervalo de confiança vemos que eles estão extremamente espaçados, porém que contemplam as medias na amostra e na populção total.  \n",
    "O intervalo de confiança da população total apresenta-se em um melhor estado por ser de tamanho menor."
   ]
  },
  {
   "cell_type": "code",
   "execution_count": 21,
   "metadata": {},
   "outputs": [
    {
     "name": "stdout",
     "output_type": "stream",
     "text": [
      "\n",
      "\n",
      "------------------ Intervalo na Amostra-----------------\n",
      "[  2.68674  ,  26.31326  ]\n",
      "\n",
      "\n",
      "------------------ Intervalo na População Total-----------------\n",
      "[  6.06512  ,  22.93488  ]\n"
     ]
    }
   ],
   "source": [
    "\n",
    "#checado\n",
    "print(\"\\n\")\n",
    "print(\"------------------ Intervalo na Amostra-----------------\")\n",
    "Intervalo_Confianca_Media(dados,amostra3,\"nReincidenciaFalhas\", 0.95)\n",
    "print(\"\\n\")\n",
    "print(\"------------------ Intervalo na População Total-----------------\")\n",
    "Intervalo_Confianca_Media_T (dados,amostra3,0.95)\n"
   ]
  }
 ],
 "metadata": {
  "kernelspec": {
   "display_name": "Python 3",
   "language": "python",
   "name": "python3"
  },
  "language_info": {
   "codemirror_mode": {
    "name": "ipython",
    "version": 3
   },
   "file_extension": ".py",
   "mimetype": "text/x-python",
   "name": "python",
   "nbconvert_exporter": "python",
   "pygments_lexer": "ipython3",
   "version": "3.11.5"
  }
 },
 "nbformat": 4,
 "nbformat_minor": 2
}
